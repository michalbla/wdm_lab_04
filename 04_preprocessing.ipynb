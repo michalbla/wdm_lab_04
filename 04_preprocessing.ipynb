{
 "cells": [
  {
   "cell_type": "markdown",
   "metadata": {
    "toc": true
   },
   "source": [
    "<h1>Table of Contents<span class=\"tocSkip\"></span></h1>\n",
    "<div class=\"toc\"><ul class=\"toc-item\"><li><span><a href=\"#4.-Wstępne-przetwarzanie-danych\" data-toc-modified-id=\"4.-Wstępne-przetwarzanie-danych-1\"><span class=\"toc-item-num\">1&nbsp;&nbsp;</span>4. Wstępne przetwarzanie danych</a></span><ul class=\"toc-item\"><li><span><a href=\"#Dane-Iris\" data-toc-modified-id=\"Dane-Iris-1.1\"><span class=\"toc-item-num\">1.1&nbsp;&nbsp;</span>Dane Iris</a></span></li><li><span><a href=\"#Brakujące-wartości\" data-toc-modified-id=\"Brakujące-wartości-1.2\"><span class=\"toc-item-num\">1.2&nbsp;&nbsp;</span>Brakujące wartości</a></span></li><li><span><a href=\"#Transformacja-do-zmiennej-numerycznej\" data-toc-modified-id=\"Transformacja-do-zmiennej-numerycznej-1.3\"><span class=\"toc-item-num\">1.3&nbsp;&nbsp;</span>Transformacja do zmiennej numerycznej</a></span><ul class=\"toc-item\"><li><span><a href=\"#Ćwiczenie\" data-toc-modified-id=\"Ćwiczenie-1.3.1\"><span class=\"toc-item-num\">1.3.1&nbsp;&nbsp;</span>Ćwiczenie</a></span></li></ul></li><li><span><a href=\"#Uzupełnianie-wartości-brakujących\" data-toc-modified-id=\"Uzupełnianie-wartości-brakujących-1.4\"><span class=\"toc-item-num\">1.4&nbsp;&nbsp;</span>Uzupełnianie wartości brakujących</a></span></li><li><span><a href=\"#Usuwanie-wartości-brakujących\" data-toc-modified-id=\"Usuwanie-wartości-brakujących-1.5\"><span class=\"toc-item-num\">1.5&nbsp;&nbsp;</span>Usuwanie wartości brakujących</a></span></li><li><span><a href=\"#Wartości-odstające-i-inne-anomalie\" data-toc-modified-id=\"Wartości-odstające-i-inne-anomalie-1.6\"><span class=\"toc-item-num\">1.6&nbsp;&nbsp;</span>Wartości odstające i inne anomalie</a></span><ul class=\"toc-item\"><li><span><a href=\"#Ćwiczenie\" data-toc-modified-id=\"Ćwiczenie-1.6.1\"><span class=\"toc-item-num\">1.6.1&nbsp;&nbsp;</span>Ćwiczenie</a></span></li></ul></li><li><span><a href=\"#Błędy-w-danych\" data-toc-modified-id=\"Błędy-w-danych-1.7\"><span class=\"toc-item-num\">1.7&nbsp;&nbsp;</span>Błędy w danych</a></span></li><li><span><a href=\"#Duplikaty\" data-toc-modified-id=\"Duplikaty-1.8\"><span class=\"toc-item-num\">1.8&nbsp;&nbsp;</span>Duplikaty</a></span></li><li><span><a href=\"#Standaryzacja-danych\" data-toc-modified-id=\"Standaryzacja-danych-1.9\"><span class=\"toc-item-num\">1.9&nbsp;&nbsp;</span>Standaryzacja danych</a></span></li><li><span><a href=\"#Normalizacja\" data-toc-modified-id=\"Normalizacja-1.10\"><span class=\"toc-item-num\">1.10&nbsp;&nbsp;</span>Normalizacja</a></span></li><li><span><a href=\"#Próbkowanie-(sampling)\" data-toc-modified-id=\"Próbkowanie-(sampling)-1.11\"><span class=\"toc-item-num\">1.11&nbsp;&nbsp;</span>Próbkowanie (sampling)</a></span></li><li><span><a href=\"#Dyskretyzacja-danych\" data-toc-modified-id=\"Dyskretyzacja-danych-1.12\"><span class=\"toc-item-num\">1.12&nbsp;&nbsp;</span>Dyskretyzacja danych</a></span><ul class=\"toc-item\"><li><span><a href=\"#Ćwiczenie\" data-toc-modified-id=\"Ćwiczenie-1.12.1\"><span class=\"toc-item-num\">1.12.1&nbsp;&nbsp;</span>Ćwiczenie</a></span></li></ul></li><li><span><a href=\"#Zamiana-kategorycznych-danych-na-zmienne-numeryczne\" data-toc-modified-id=\"Zamiana-kategorycznych-danych-na-zmienne-numeryczne-1.13\"><span class=\"toc-item-num\">1.13&nbsp;&nbsp;</span>Zamiana kategorycznych danych na zmienne numeryczne</a></span><ul class=\"toc-item\"><li><span><a href=\"#Kodowanie-one-hot\" data-toc-modified-id=\"Kodowanie-one-hot-1.13.1\"><span class=\"toc-item-num\">1.13.1&nbsp;&nbsp;</span>Kodowanie one-hot</a></span></li><li><span><a href=\"#Mapowanie-wartości-kategorycznych-na-liczby\" data-toc-modified-id=\"Mapowanie-wartości-kategorycznych-na-liczby-1.13.2\"><span class=\"toc-item-num\">1.13.2&nbsp;&nbsp;</span>Mapowanie wartości kategorycznych na liczby</a></span></li></ul></li><li><span><a href=\"#Zadanie\" data-toc-modified-id=\"Zadanie-1.14\"><span class=\"toc-item-num\">1.14&nbsp;&nbsp;</span>Zadanie</a></span></li></ul></li></ul></div>"
   ]
  },
  {
   "cell_type": "markdown",
   "metadata": {
    "slideshow": {
     "slide_type": "slide"
    }
   },
   "source": [
    "# 4. Wstępne przetwarzanie danych\n",
    "\n",
    "\n",
    "Przed przystąpieniem do analizy dane należy odpowiednio przygotować\n",
    "* usunięcie błędów wynikające z metody pomiaru lub niepoprawnej akwizycji\n",
    "* usunięcie wartości niezgodnych ze zbiorem danych i naszą wiedzą o domenie problemu\n",
    "* wartości odstające (_outlayers_)\n",
    "* wartości brakujące\n",
    "* powtórzenia pomiarów (duplikaty)\n",
    "* przygotowanie zmiennych: standaryzacja, normalizacja, uciąglanie, dyskretyzacja, ..."
   ]
  },
  {
   "cell_type": "markdown",
   "metadata": {
    "slideshow": {
     "slide_type": "slide"
    }
   },
   "source": [
    "## Dane Iris\n",
    "\n",
    "Dane Iris zawierają pomiary rozmiarów płatków (petal) oraz rozmiarów liści kielicha (sepal) dokonanych dla 3 odmian Irysów: Setosa, Virginica i Versicolor\n",
    "\n",
    "<img src=\"https://s3.amazonaws.com/assets.datacamp.com/blog_assets/Machine+Learning+R/iris-machinelearning.png\" alt=\"drawing\" width=\"400\"/>\n",
    "\n",
    "Dane znajdują się w repozytoiurm w katalogu [dane/iris-data.csv](dane/iris-data.csv) lub można le pobrać [tutaj](https://github.com/IS-UMK/wdm_lab_04/blob/master/dane/iris-data.csv)\n"
   ]
  },
  {
   "cell_type": "code",
   "execution_count": 142,
   "metadata": {
    "slideshow": {
     "slide_type": "slide"
    }
   },
   "outputs": [
    {
     "name": "stdout",
     "output_type": "stream",
     "text": [
      "Ilość przypadków = 154\n",
      "Ilość zmiennych = 5\n"
     ]
    },
    {
     "data": {
      "application/vnd.microsoft.datawrangler.viewer.v0+json": {
       "columns": [
        {
         "name": "index",
         "rawType": "int64",
         "type": "integer"
        },
        {
         "name": "sepal_length_cm",
         "rawType": "object",
         "type": "string"
        },
        {
         "name": "sepal_width_cm",
         "rawType": "float64",
         "type": "float"
        },
        {
         "name": "petal_length_cm",
         "rawType": "float64",
         "type": "float"
        },
        {
         "name": "petal_width_cm",
         "rawType": "float64",
         "type": "float"
        },
        {
         "name": "class",
         "rawType": "object",
         "type": "string"
        }
       ],
       "conversionMethod": "pd.DataFrame",
       "ref": "68f7f35f-6857-484c-a6f2-21b439963000",
       "rows": [
        [
         "0",
         "5.1",
         "3.5",
         "1.4",
         "0.2",
         "Iris-setosa"
        ],
        [
         "1",
         "4.9",
         "3.0",
         "1.4",
         "0.2",
         "Iris-setosa"
        ],
        [
         "2",
         "4.7",
         "3.2",
         "1.3",
         "0.2",
         "Iris-setosa"
        ],
        [
         "3",
         "4.6",
         "3.1",
         "1.5",
         "0.2",
         "Iris-setosa"
        ],
        [
         "4",
         "5",
         "3.6",
         "1.4",
         "0.2",
         "Iris-setosa"
        ]
       ],
       "shape": {
        "columns": 5,
        "rows": 5
       }
      },
      "text/html": [
       "<div>\n",
       "<style scoped>\n",
       "    .dataframe tbody tr th:only-of-type {\n",
       "        vertical-align: middle;\n",
       "    }\n",
       "\n",
       "    .dataframe tbody tr th {\n",
       "        vertical-align: top;\n",
       "    }\n",
       "\n",
       "    .dataframe thead th {\n",
       "        text-align: right;\n",
       "    }\n",
       "</style>\n",
       "<table border=\"1\" class=\"dataframe\">\n",
       "  <thead>\n",
       "    <tr style=\"text-align: right;\">\n",
       "      <th></th>\n",
       "      <th>sepal_length_cm</th>\n",
       "      <th>sepal_width_cm</th>\n",
       "      <th>petal_length_cm</th>\n",
       "      <th>petal_width_cm</th>\n",
       "      <th>class</th>\n",
       "    </tr>\n",
       "  </thead>\n",
       "  <tbody>\n",
       "    <tr>\n",
       "      <th>0</th>\n",
       "      <td>5.1</td>\n",
       "      <td>3.5</td>\n",
       "      <td>1.4</td>\n",
       "      <td>0.2</td>\n",
       "      <td>Iris-setosa</td>\n",
       "    </tr>\n",
       "    <tr>\n",
       "      <th>1</th>\n",
       "      <td>4.9</td>\n",
       "      <td>3.0</td>\n",
       "      <td>1.4</td>\n",
       "      <td>0.2</td>\n",
       "      <td>Iris-setosa</td>\n",
       "    </tr>\n",
       "    <tr>\n",
       "      <th>2</th>\n",
       "      <td>4.7</td>\n",
       "      <td>3.2</td>\n",
       "      <td>1.3</td>\n",
       "      <td>0.2</td>\n",
       "      <td>Iris-setosa</td>\n",
       "    </tr>\n",
       "    <tr>\n",
       "      <th>3</th>\n",
       "      <td>4.6</td>\n",
       "      <td>3.1</td>\n",
       "      <td>1.5</td>\n",
       "      <td>0.2</td>\n",
       "      <td>Iris-setosa</td>\n",
       "    </tr>\n",
       "    <tr>\n",
       "      <th>4</th>\n",
       "      <td>5</td>\n",
       "      <td>3.6</td>\n",
       "      <td>1.4</td>\n",
       "      <td>0.2</td>\n",
       "      <td>Iris-setosa</td>\n",
       "    </tr>\n",
       "  </tbody>\n",
       "</table>\n",
       "</div>"
      ],
      "text/plain": [
       "  sepal_length_cm  sepal_width_cm  petal_length_cm  petal_width_cm  \\\n",
       "0             5.1             3.5              1.4             0.2   \n",
       "1             4.9             3.0              1.4             0.2   \n",
       "2             4.7             3.2              1.3             0.2   \n",
       "3             4.6             3.1              1.5             0.2   \n",
       "4               5             3.6              1.4             0.2   \n",
       "\n",
       "         class  \n",
       "0  Iris-setosa  \n",
       "1  Iris-setosa  \n",
       "2  Iris-setosa  \n",
       "3  Iris-setosa  \n",
       "4  Iris-setosa  "
      ]
     },
     "execution_count": 142,
     "metadata": {},
     "output_type": "execute_result"
    }
   ],
   "source": [
    "import pandas as pd\n",
    "\n",
    "iris = pd.read_csv('dane/iris-data.csv')\n",
    "\n",
    "print('Ilość przypadków = %d' % (iris.shape[0]))\n",
    "print('Ilość zmiennych = %d' % (iris.shape[1]))\n",
    "iris.head()"
   ]
  },
  {
   "cell_type": "markdown",
   "metadata": {
    "slideshow": {
     "slide_type": "slide"
    }
   },
   "source": [
    "## Brakujące wartości\n",
    "\n",
    "Na pierwszy rzut oka wszystko wydaje się być w porządku. Niemniej jednak pierwsze co  powinniśmy sprawdzić to to czy w pliku nie ma braków danych. W tabeli Pandas takie wartości są reprezentowane za pomocą wartości `null`. Sprawdźmy, czy mamy takie dane w pliku za pomocą metody `isnull()` lub ``isna()``"
   ]
  },
  {
   "cell_type": "code",
   "execution_count": 143,
   "metadata": {},
   "outputs": [
    {
     "data": {
      "application/vnd.microsoft.datawrangler.viewer.v0+json": {
       "columns": [
        {
         "name": "index",
         "rawType": "int64",
         "type": "integer"
        },
        {
         "name": "sepal_length_cm",
         "rawType": "bool",
         "type": "boolean"
        },
        {
         "name": "sepal_width_cm",
         "rawType": "bool",
         "type": "boolean"
        },
        {
         "name": "petal_length_cm",
         "rawType": "bool",
         "type": "boolean"
        },
        {
         "name": "petal_width_cm",
         "rawType": "bool",
         "type": "boolean"
        },
        {
         "name": "class",
         "rawType": "bool",
         "type": "boolean"
        }
       ],
       "conversionMethod": "pd.DataFrame",
       "ref": "b7c14786-c391-47e0-af18-8d4dd3232a87",
       "rows": [
        [
         "0",
         "False",
         "False",
         "False",
         "False",
         "False"
        ],
        [
         "1",
         "False",
         "False",
         "False",
         "False",
         "False"
        ],
        [
         "2",
         "False",
         "False",
         "False",
         "False",
         "False"
        ],
        [
         "3",
         "False",
         "False",
         "False",
         "False",
         "False"
        ],
        [
         "4",
         "False",
         "False",
         "False",
         "False",
         "False"
        ],
        [
         "5",
         "False",
         "False",
         "False",
         "False",
         "False"
        ],
        [
         "6",
         "False",
         "False",
         "False",
         "False",
         "False"
        ],
        [
         "7",
         "False",
         "False",
         "False",
         "True",
         "False"
        ],
        [
         "8",
         "False",
         "False",
         "False",
         "True",
         "False"
        ],
        [
         "9",
         "False",
         "False",
         "False",
         "True",
         "False"
        ],
        [
         "10",
         "False",
         "False",
         "False",
         "True",
         "False"
        ],
        [
         "11",
         "False",
         "False",
         "False",
         "True",
         "False"
        ],
        [
         "12",
         "False",
         "False",
         "False",
         "False",
         "False"
        ],
        [
         "13",
         "False",
         "False",
         "False",
         "False",
         "False"
        ],
        [
         "14",
         "False",
         "False",
         "False",
         "False",
         "False"
        ],
        [
         "15",
         "False",
         "False",
         "False",
         "False",
         "False"
        ],
        [
         "16",
         "False",
         "False",
         "False",
         "False",
         "False"
        ],
        [
         "17",
         "False",
         "False",
         "False",
         "False",
         "False"
        ],
        [
         "18",
         "False",
         "False",
         "False",
         "False",
         "False"
        ],
        [
         "19",
         "False",
         "False",
         "False",
         "False",
         "False"
        ],
        [
         "20",
         "False",
         "False",
         "False",
         "False",
         "False"
        ],
        [
         "21",
         "False",
         "False",
         "False",
         "False",
         "False"
        ],
        [
         "22",
         "False",
         "False",
         "False",
         "False",
         "False"
        ],
        [
         "23",
         "False",
         "False",
         "False",
         "False",
         "False"
        ],
        [
         "24",
         "False",
         "False",
         "False",
         "False",
         "False"
        ],
        [
         "25",
         "False",
         "False",
         "False",
         "False",
         "False"
        ],
        [
         "26",
         "False",
         "False",
         "False",
         "False",
         "False"
        ],
        [
         "27",
         "False",
         "False",
         "False",
         "False",
         "False"
        ],
        [
         "28",
         "False",
         "False",
         "False",
         "False",
         "False"
        ],
        [
         "29",
         "False",
         "False",
         "False",
         "False",
         "False"
        ],
        [
         "30",
         "False",
         "False",
         "False",
         "False",
         "False"
        ],
        [
         "31",
         "False",
         "False",
         "False",
         "False",
         "False"
        ],
        [
         "32",
         "False",
         "False",
         "False",
         "False",
         "False"
        ],
        [
         "33",
         "False",
         "False",
         "False",
         "False",
         "False"
        ],
        [
         "34",
         "False",
         "False",
         "False",
         "False",
         "False"
        ],
        [
         "35",
         "False",
         "False",
         "False",
         "False",
         "False"
        ],
        [
         "36",
         "False",
         "False",
         "False",
         "False",
         "False"
        ],
        [
         "37",
         "False",
         "False",
         "False",
         "False",
         "False"
        ],
        [
         "38",
         "False",
         "False",
         "False",
         "False",
         "False"
        ],
        [
         "39",
         "False",
         "False",
         "False",
         "False",
         "False"
        ],
        [
         "40",
         "False",
         "False",
         "False",
         "False",
         "False"
        ],
        [
         "41",
         "False",
         "False",
         "False",
         "False",
         "False"
        ],
        [
         "42",
         "False",
         "False",
         "False",
         "False",
         "False"
        ],
        [
         "43",
         "False",
         "False",
         "False",
         "False",
         "False"
        ],
        [
         "44",
         "False",
         "False",
         "False",
         "False",
         "False"
        ],
        [
         "45",
         "False",
         "False",
         "False",
         "False",
         "False"
        ],
        [
         "46",
         "False",
         "False",
         "False",
         "False",
         "False"
        ],
        [
         "47",
         "False",
         "False",
         "False",
         "False",
         "False"
        ],
        [
         "48",
         "False",
         "False",
         "False",
         "False",
         "False"
        ],
        [
         "49",
         "False",
         "False",
         "False",
         "False",
         "False"
        ]
       ],
       "shape": {
        "columns": 5,
        "rows": 154
       }
      },
      "text/html": [
       "<div>\n",
       "<style scoped>\n",
       "    .dataframe tbody tr th:only-of-type {\n",
       "        vertical-align: middle;\n",
       "    }\n",
       "\n",
       "    .dataframe tbody tr th {\n",
       "        vertical-align: top;\n",
       "    }\n",
       "\n",
       "    .dataframe thead th {\n",
       "        text-align: right;\n",
       "    }\n",
       "</style>\n",
       "<table border=\"1\" class=\"dataframe\">\n",
       "  <thead>\n",
       "    <tr style=\"text-align: right;\">\n",
       "      <th></th>\n",
       "      <th>sepal_length_cm</th>\n",
       "      <th>sepal_width_cm</th>\n",
       "      <th>petal_length_cm</th>\n",
       "      <th>petal_width_cm</th>\n",
       "      <th>class</th>\n",
       "    </tr>\n",
       "  </thead>\n",
       "  <tbody>\n",
       "    <tr>\n",
       "      <th>0</th>\n",
       "      <td>False</td>\n",
       "      <td>False</td>\n",
       "      <td>False</td>\n",
       "      <td>False</td>\n",
       "      <td>False</td>\n",
       "    </tr>\n",
       "    <tr>\n",
       "      <th>1</th>\n",
       "      <td>False</td>\n",
       "      <td>False</td>\n",
       "      <td>False</td>\n",
       "      <td>False</td>\n",
       "      <td>False</td>\n",
       "    </tr>\n",
       "    <tr>\n",
       "      <th>2</th>\n",
       "      <td>False</td>\n",
       "      <td>False</td>\n",
       "      <td>False</td>\n",
       "      <td>False</td>\n",
       "      <td>False</td>\n",
       "    </tr>\n",
       "    <tr>\n",
       "      <th>3</th>\n",
       "      <td>False</td>\n",
       "      <td>False</td>\n",
       "      <td>False</td>\n",
       "      <td>False</td>\n",
       "      <td>False</td>\n",
       "    </tr>\n",
       "    <tr>\n",
       "      <th>4</th>\n",
       "      <td>False</td>\n",
       "      <td>False</td>\n",
       "      <td>False</td>\n",
       "      <td>False</td>\n",
       "      <td>False</td>\n",
       "    </tr>\n",
       "    <tr>\n",
       "      <th>...</th>\n",
       "      <td>...</td>\n",
       "      <td>...</td>\n",
       "      <td>...</td>\n",
       "      <td>...</td>\n",
       "      <td>...</td>\n",
       "    </tr>\n",
       "    <tr>\n",
       "      <th>149</th>\n",
       "      <td>False</td>\n",
       "      <td>False</td>\n",
       "      <td>False</td>\n",
       "      <td>False</td>\n",
       "      <td>False</td>\n",
       "    </tr>\n",
       "    <tr>\n",
       "      <th>150</th>\n",
       "      <td>False</td>\n",
       "      <td>False</td>\n",
       "      <td>False</td>\n",
       "      <td>False</td>\n",
       "      <td>False</td>\n",
       "    </tr>\n",
       "    <tr>\n",
       "      <th>151</th>\n",
       "      <td>False</td>\n",
       "      <td>False</td>\n",
       "      <td>False</td>\n",
       "      <td>False</td>\n",
       "      <td>False</td>\n",
       "    </tr>\n",
       "    <tr>\n",
       "      <th>152</th>\n",
       "      <td>False</td>\n",
       "      <td>False</td>\n",
       "      <td>False</td>\n",
       "      <td>False</td>\n",
       "      <td>False</td>\n",
       "    </tr>\n",
       "    <tr>\n",
       "      <th>153</th>\n",
       "      <td>False</td>\n",
       "      <td>False</td>\n",
       "      <td>False</td>\n",
       "      <td>False</td>\n",
       "      <td>False</td>\n",
       "    </tr>\n",
       "  </tbody>\n",
       "</table>\n",
       "<p>154 rows × 5 columns</p>\n",
       "</div>"
      ],
      "text/plain": [
       "     sepal_length_cm  sepal_width_cm  petal_length_cm  petal_width_cm  class\n",
       "0              False           False            False           False  False\n",
       "1              False           False            False           False  False\n",
       "2              False           False            False           False  False\n",
       "3              False           False            False           False  False\n",
       "4              False           False            False           False  False\n",
       "..               ...             ...              ...             ...    ...\n",
       "149            False           False            False           False  False\n",
       "150            False           False            False           False  False\n",
       "151            False           False            False           False  False\n",
       "152            False           False            False           False  False\n",
       "153            False           False            False           False  False\n",
       "\n",
       "[154 rows x 5 columns]"
      ]
     },
     "execution_count": 143,
     "metadata": {},
     "output_type": "execute_result"
    }
   ],
   "source": [
    "iris.isnull()"
   ]
  },
  {
   "cell_type": "code",
   "execution_count": 144,
   "metadata": {},
   "outputs": [
    {
     "data": {
      "text/plain": [
       "True"
      ]
     },
     "execution_count": 144,
     "metadata": {},
     "output_type": "execute_result"
    }
   ],
   "source": [
    "iris.isnull().values.any()"
   ]
  },
  {
   "cell_type": "markdown",
   "metadata": {
    "slideshow": {
     "slide_type": "slide"
    }
   },
   "source": [
    "Wygląda na to, że w danych są brakujące wartości. Sprawdźmy ile ich jest w każdej ze zmiennych."
   ]
  },
  {
   "cell_type": "code",
   "execution_count": 145,
   "metadata": {},
   "outputs": [
    {
     "data": {
      "text/plain": [
       "sepal_length_cm    0\n",
       "sepal_width_cm     0\n",
       "petal_length_cm    0\n",
       "petal_width_cm     5\n",
       "class              0\n",
       "dtype: int64"
      ]
     },
     "execution_count": 145,
     "metadata": {},
     "output_type": "execute_result"
    }
   ],
   "source": [
    "iris.isnull().sum()"
   ]
  },
  {
   "cell_type": "markdown",
   "metadata": {},
   "source": [
    "Zobaczmy także jakiego typu są zmienne."
   ]
  },
  {
   "cell_type": "code",
   "execution_count": 146,
   "metadata": {},
   "outputs": [
    {
     "name": "stdout",
     "output_type": "stream",
     "text": [
      "<class 'pandas.core.frame.DataFrame'>\n",
      "RangeIndex: 154 entries, 0 to 153\n",
      "Data columns (total 5 columns):\n",
      " #   Column           Non-Null Count  Dtype  \n",
      "---  ------           --------------  -----  \n",
      " 0   sepal_length_cm  154 non-null    object \n",
      " 1   sepal_width_cm   154 non-null    float64\n",
      " 2   petal_length_cm  154 non-null    float64\n",
      " 3   petal_width_cm   149 non-null    float64\n",
      " 4   class            154 non-null    object \n",
      "dtypes: float64(3), object(2)\n",
      "memory usage: 6.1+ KB\n"
     ]
    }
   ],
   "source": [
    "iris.info()"
   ]
  },
  {
   "cell_type": "markdown",
   "metadata": {
    "slideshow": {
     "slide_type": "slide"
    }
   },
   "source": [
    "## Transformacja do zmiennej numerycznej\n",
    "\n",
    "Pierwsza zmienna powinna zawierać wartości numeryczne a jest reprezentowana jako `object`. Najprawdopodobniej w pliku występuje pewna wartość, która nie jest liczbą, dlatego Pandas zaimportował te wartości do typu `object` (w postaci napisów). Spróbujmy zamienić tą zmienną na zmienną numeryczną za pomocą metody [pandas.to_numeric](https://pandas.pydata.org/pandas-docs/stable/reference/api/pandas.to_numeric.html). \n",
    "\n",
    "```python\n",
    "pandas.to_numeric(arg, errors='raise')\n",
    "```\n",
    "\n",
    "Argument  `errors='coerce'` sprawia, że  wszystkie problematyczne wartości zostaną zamienione na wartość `NaN`.\n",
    "\n"
   ]
  },
  {
   "cell_type": "code",
   "execution_count": 147,
   "metadata": {},
   "outputs": [
    {
     "data": {
      "text/plain": [
       "array([42.,  2.,  1., -5.])"
      ]
     },
     "execution_count": 147,
     "metadata": {},
     "output_type": "execute_result"
    }
   ],
   "source": [
    "x = [ 42, 2.0, '1.0', \"-5\"]\n",
    "pd.to_numeric(x)"
   ]
  },
  {
   "cell_type": "code",
   "execution_count": 148,
   "metadata": {},
   "outputs": [
    {
     "data": {
      "text/plain": [
       "array([42.,  2.,  1., -5., nan, nan])"
      ]
     },
     "execution_count": 148,
     "metadata": {},
     "output_type": "execute_result"
    }
   ],
   "source": [
    "x = [ 42, 2.0, '1.0', \"-5\", '?', 'Siała baba mak']\n",
    "pd.to_numeric(x, errors='coerce')"
   ]
  },
  {
   "cell_type": "markdown",
   "metadata": {
    "slideshow": {
     "slide_type": "slide"
    }
   },
   "source": [
    "### Ćwiczenie\n",
    "\n",
    "Przekształć zmienną ``sepal_length_cm`` do postaci numerycznej.  \n",
    "Sprawdź, które obserwacje zawierają brakujące dane i jakie symbole powodowały problem przy zamianie do wartości numerycznych? "
   ]
  },
  {
   "cell_type": "code",
   "execution_count": null,
   "metadata": {},
   "outputs": [],
   "source": [
    "\n",
    "\n"
   ]
  },
  {
   "cell_type": "markdown",
   "metadata": {},
   "source": [
    "<details>\n",
    "<summary> > Odpowiedź ... </summary>    \n",
    "Okazuje się, że dwie wartości w pliku zamiast liczby zawierały znak zapytania (`?`).\n",
    "</details>\n"
   ]
  },
  {
   "cell_type": "markdown",
   "metadata": {
    "slideshow": {
     "slide_type": "slide"
    }
   },
   "source": [
    "## Uzupełnianie wartości brakujących\n",
    "\n",
    "Jeżeli zależy nam na zachowaniu pomiarów zawierających braki to możemy spróbować wypełnić je odpowiednimi wartościami, np. takimi, które wydają się najbardziej prawdopodobne, tj. wartością średnią zmiennej lub wartością modalną. Wypełnianie braków zrealizowane może być funkcją [DataFrame.fillna()](https://pandas.pydata.org/pandas-docs/stable/reference/api/pandas.DataFrame.fillna.html)\n",
    "\n",
    "```python\n",
    "DataFrame.fillna(value=None, inplace=False, ...)\n",
    "```"
   ]
  },
  {
   "cell_type": "code",
   "execution_count": 149,
   "metadata": {},
   "outputs": [
    {
     "name": "stdout",
     "output_type": "stream",
     "text": [
      "Wartość średnia zmiennej 5.645355263157895\n",
      "\n",
      "Czy zminna posiada wartości NaN?  False\n"
     ]
    }
   ],
   "source": [
    "sepal_numeric = pd.to_numeric(iris['sepal_length_cm'], errors='coerce')\n",
    "sepal_lenght_mean = sepal_numeric.mean()\n",
    "\n",
    "print(f'Wartość średnia zmiennej {sepal_lenght_mean}\\n')\n",
    "\n",
    "iris['sepal_length_cm'] = sepal_numeric.fillna(sepal_lenght_mean)\n",
    "\n",
    "print('Czy zminna posiada wartości NaN? ',  iris['sepal_length_cm'].isna().values.any())\n",
    "# iris.info()"
   ]
  },
  {
   "cell_type": "markdown",
   "metadata": {
    "slideshow": {
     "slide_type": "slide"
    }
   },
   "source": [
    "## Usuwanie wartości brakujących \n",
    "\n",
    "Jednak najczęściej będziemy chcieli się pozbyć pomiarów posiadających brakujące dane. W przypadku, gdy danych jest dostatecznie dużo nie będzie to miało istotnego wpływu na wynik analizy. \n",
    "\n",
    "Usuńmy przypadki, które posiadają braki za pomocą metody [DataFrame.dropna()](https://pandas.pydata.org/pandas-docs/stable/reference/api/pandas.DataFrame.dropna.html)."
   ]
  },
  {
   "cell_type": "code",
   "execution_count": 150,
   "metadata": {},
   "outputs": [
    {
     "name": "stdout",
     "output_type": "stream",
     "text": [
      "Obecnie w danych jest 154 przypadków\n",
      "\n",
      "Po usunięciu braków pozostało 149 przypadków\n",
      "\n",
      "Czy w danych są jeszcze brakujące wartości?\n"
     ]
    },
    {
     "data": {
      "text/plain": [
       "sepal_length_cm    False\n",
       "sepal_width_cm     False\n",
       "petal_length_cm    False\n",
       "petal_width_cm     False\n",
       "class              False\n",
       "dtype: bool"
      ]
     },
     "execution_count": 150,
     "metadata": {},
     "output_type": "execute_result"
    }
   ],
   "source": [
    "print(f\"Obecnie w danych jest {iris.shape[0]} przypadków\\n\")\n",
    "\n",
    "iris = iris.dropna()     # usuwanie wierszy zawierających wartości NaN\n",
    "\n",
    "print(f\"Po usunięciu braków pozostało {iris.shape[0]} przypadków\\n\")\n",
    "\n",
    "print(\"Czy w danych są jeszcze brakujące wartości?\")\n",
    "iris.isna().any()"
   ]
  },
  {
   "cell_type": "markdown",
   "metadata": {
    "slideshow": {
     "slide_type": "slide"
    }
   },
   "source": [
    "## Wartości odstające i inne anomalie\n",
    "\n",
    "\n",
    "Wypiszmy podstawowe statystyki o danych i sprawdźmy czy występują tam inne anomalie."
   ]
  },
  {
   "cell_type": "code",
   "execution_count": 151,
   "metadata": {},
   "outputs": [
    {
     "data": {
      "application/vnd.microsoft.datawrangler.viewer.v0+json": {
       "columns": [
        {
         "name": "index",
         "rawType": "object",
         "type": "string"
        },
        {
         "name": "sepal_length_cm",
         "rawType": "float64",
         "type": "float"
        },
        {
         "name": "sepal_width_cm",
         "rawType": "float64",
         "type": "float"
        },
        {
         "name": "petal_length_cm",
         "rawType": "float64",
         "type": "float"
        },
        {
         "name": "petal_width_cm",
         "rawType": "float64",
         "type": "float"
        }
       ],
       "conversionMethod": "pd.DataFrame",
       "ref": "345d33be-dde8-4033-97f3-f5fa1ea96966",
       "rows": [
        [
         "count",
         "149.0",
         "149.0",
         "149.0",
         "149.0"
        ],
        [
         "mean",
         "5.670367184740374",
         "3.0120805369127517",
         "3.8664429530201345",
         "1.2530201342281881"
        ],
        [
         "std",
         "1.302027843137642",
         "0.5466003965146571",
         "1.7289119660210241",
         "0.7528824831111806"
        ],
        [
         "min",
         "0.055",
         "-1.0",
         "1.0",
         "0.1"
        ],
        [
         "25%",
         "5.1",
         "2.8",
         "1.6",
         "0.4"
        ],
        [
         "50%",
         "5.8",
         "3.0",
         "4.5",
         "1.4"
        ],
        [
         "75%",
         "6.4",
         "3.3",
         "5.1",
         "1.8"
        ],
        [
         "max",
         "7.9",
         "4.4",
         "6.9",
         "2.5"
        ]
       ],
       "shape": {
        "columns": 4,
        "rows": 8
       }
      },
      "text/html": [
       "<div>\n",
       "<style scoped>\n",
       "    .dataframe tbody tr th:only-of-type {\n",
       "        vertical-align: middle;\n",
       "    }\n",
       "\n",
       "    .dataframe tbody tr th {\n",
       "        vertical-align: top;\n",
       "    }\n",
       "\n",
       "    .dataframe thead th {\n",
       "        text-align: right;\n",
       "    }\n",
       "</style>\n",
       "<table border=\"1\" class=\"dataframe\">\n",
       "  <thead>\n",
       "    <tr style=\"text-align: right;\">\n",
       "      <th></th>\n",
       "      <th>sepal_length_cm</th>\n",
       "      <th>sepal_width_cm</th>\n",
       "      <th>petal_length_cm</th>\n",
       "      <th>petal_width_cm</th>\n",
       "    </tr>\n",
       "  </thead>\n",
       "  <tbody>\n",
       "    <tr>\n",
       "      <th>count</th>\n",
       "      <td>149.000000</td>\n",
       "      <td>149.000000</td>\n",
       "      <td>149.000000</td>\n",
       "      <td>149.000000</td>\n",
       "    </tr>\n",
       "    <tr>\n",
       "      <th>mean</th>\n",
       "      <td>5.670367</td>\n",
       "      <td>3.012081</td>\n",
       "      <td>3.866443</td>\n",
       "      <td>1.253020</td>\n",
       "    </tr>\n",
       "    <tr>\n",
       "      <th>std</th>\n",
       "      <td>1.302028</td>\n",
       "      <td>0.546600</td>\n",
       "      <td>1.728912</td>\n",
       "      <td>0.752882</td>\n",
       "    </tr>\n",
       "    <tr>\n",
       "      <th>min</th>\n",
       "      <td>0.055000</td>\n",
       "      <td>-1.000000</td>\n",
       "      <td>1.000000</td>\n",
       "      <td>0.100000</td>\n",
       "    </tr>\n",
       "    <tr>\n",
       "      <th>25%</th>\n",
       "      <td>5.100000</td>\n",
       "      <td>2.800000</td>\n",
       "      <td>1.600000</td>\n",
       "      <td>0.400000</td>\n",
       "    </tr>\n",
       "    <tr>\n",
       "      <th>50%</th>\n",
       "      <td>5.800000</td>\n",
       "      <td>3.000000</td>\n",
       "      <td>4.500000</td>\n",
       "      <td>1.400000</td>\n",
       "    </tr>\n",
       "    <tr>\n",
       "      <th>75%</th>\n",
       "      <td>6.400000</td>\n",
       "      <td>3.300000</td>\n",
       "      <td>5.100000</td>\n",
       "      <td>1.800000</td>\n",
       "    </tr>\n",
       "    <tr>\n",
       "      <th>max</th>\n",
       "      <td>7.900000</td>\n",
       "      <td>4.400000</td>\n",
       "      <td>6.900000</td>\n",
       "      <td>2.500000</td>\n",
       "    </tr>\n",
       "  </tbody>\n",
       "</table>\n",
       "</div>"
      ],
      "text/plain": [
       "       sepal_length_cm  sepal_width_cm  petal_length_cm  petal_width_cm\n",
       "count       149.000000      149.000000       149.000000      149.000000\n",
       "mean          5.670367        3.012081         3.866443        1.253020\n",
       "std           1.302028        0.546600         1.728912        0.752882\n",
       "min           0.055000       -1.000000         1.000000        0.100000\n",
       "25%           5.100000        2.800000         1.600000        0.400000\n",
       "50%           5.800000        3.000000         4.500000        1.400000\n",
       "75%           6.400000        3.300000         5.100000        1.800000\n",
       "max           7.900000        4.400000         6.900000        2.500000"
      ]
     },
     "execution_count": 151,
     "metadata": {},
     "output_type": "execute_result"
    }
   ],
   "source": [
    "iris.describe()"
   ]
  },
  {
   "cell_type": "markdown",
   "metadata": {},
   "source": [
    "Dzięki tego typu tabelkom możemy sprawdzić podstawowe informacje o danych oraz sprawdzić czy pomiary  nie przekraczają rozsądnych przedziałów dla poszczególnych cech.\n",
    "\n",
    "Cecha `sepal_length_cm` posiada podejrzanie małą wartość minimalną (0.055 cm), zaś wartość minimalna zmiennej `sepal_width_cm` jest ujemna (-1.0). Szerokość i wysokość powinny być wartościami większymi od 0. Najprawdopodobniej jest to wartość błędna i ten pomiar należy usunąć.\n"
   ]
  },
  {
   "cell_type": "markdown",
   "metadata": {
    "slideshow": {
     "slide_type": "slide"
    }
   },
   "source": [
    "Wartości odstające najwygodniej wykryć za pomocą wykresu skrzynkowego. "
   ]
  },
  {
   "cell_type": "code",
   "execution_count": 152,
   "metadata": {},
   "outputs": [
    {
     "data": {
      "image/png": "[encoded data removed]",
      "text/plain": [
       "<Figure size 640x480 with 1 Axes>"
      ]
     },
     "metadata": {},
     "output_type": "display_data"
    }
   ],
   "source": [
    "import matplotlib.pyplot as plt \n",
    "import seaborn as sb\n",
    "\n",
    "sb.boxplot(data=iris);"
   ]
  },
  {
   "cell_type": "markdown",
   "metadata": {},
   "source": [
    "Skrzynia określa zakres od 1 do 3 kwartyla z kreską środkową oznaczająca medianę (wartość środkowa). Punkty leżące za \"wąsami\" są podejrzane, są to wartości odstające, nietypowe dla rozkładu. \n",
    "\n",
    "Potwierdza się, że dwie pierwsze zmienne posiadają odstające wartości. \n",
    "\n",
    "Przypadki odstające tj. takie które znajdują się poza zakresem w które wpada większość danych, nie muszą jednoznacznie być błędne. Niemniej jednak należy im się dobrze przyjrzeć. I bardzo rzadko możemy jednoznacznie stwierdzić, czy taka wartość odstająca była błędem pomiaru, błędem na poziomie akwizycji lub wprowadzania danych, czy może faktycznie jest odstępstwem od normy w samym fenomenie, który obserwujemy. "
   ]
  },
  {
   "cell_type": "markdown",
   "metadata": {
    "slideshow": {
     "slide_type": "slide"
    }
   },
   "source": [
    "Zobaczmy najpierw, które przypadki posiadają wartość ujemną, gdyż one z pewnością są błędne."
   ]
  },
  {
   "cell_type": "code",
   "execution_count": 153,
   "metadata": {},
   "outputs": [
    {
     "data": {
      "application/vnd.microsoft.datawrangler.viewer.v0+json": {
       "columns": [
        {
         "name": "index",
         "rawType": "int64",
         "type": "integer"
        },
        {
         "name": "sepal_length_cm",
         "rawType": "float64",
         "type": "float"
        },
        {
         "name": "sepal_width_cm",
         "rawType": "float64",
         "type": "float"
        },
        {
         "name": "petal_length_cm",
         "rawType": "float64",
         "type": "float"
        },
        {
         "name": "petal_width_cm",
         "rawType": "float64",
         "type": "float"
        },
        {
         "name": "class",
         "rawType": "object",
         "type": "string"
        }
       ],
       "conversionMethod": "pd.DataFrame",
       "ref": "88576fd3-6ddc-487c-96be-17fc7c6c1828",
       "rows": [
        [
         "151",
         "6.2",
         "-1.0",
         "4.8",
         "1.8",
         "Iris-virginica"
        ]
       ],
       "shape": {
        "columns": 5,
        "rows": 1
       }
      },
      "text/html": [
       "<div>\n",
       "<style scoped>\n",
       "    .dataframe tbody tr th:only-of-type {\n",
       "        vertical-align: middle;\n",
       "    }\n",
       "\n",
       "    .dataframe tbody tr th {\n",
       "        vertical-align: top;\n",
       "    }\n",
       "\n",
       "    .dataframe thead th {\n",
       "        text-align: right;\n",
       "    }\n",
       "</style>\n",
       "<table border=\"1\" class=\"dataframe\">\n",
       "  <thead>\n",
       "    <tr style=\"text-align: right;\">\n",
       "      <th></th>\n",
       "      <th>sepal_length_cm</th>\n",
       "      <th>sepal_width_cm</th>\n",
       "      <th>petal_length_cm</th>\n",
       "      <th>petal_width_cm</th>\n",
       "      <th>class</th>\n",
       "    </tr>\n",
       "  </thead>\n",
       "  <tbody>\n",
       "    <tr>\n",
       "      <th>151</th>\n",
       "      <td>6.2</td>\n",
       "      <td>-1.0</td>\n",
       "      <td>4.8</td>\n",
       "      <td>1.8</td>\n",
       "      <td>Iris-virginica</td>\n",
       "    </tr>\n",
       "  </tbody>\n",
       "</table>\n",
       "</div>"
      ],
      "text/plain": [
       "     sepal_length_cm  sepal_width_cm  petal_length_cm  petal_width_cm  \\\n",
       "151              6.2            -1.0              4.8             1.8   \n",
       "\n",
       "              class  \n",
       "151  Iris-virginica  "
      ]
     },
     "execution_count": 153,
     "metadata": {},
     "output_type": "execute_result"
    }
   ],
   "source": [
    "iris[iris['sepal_width_cm'] < 0.0]"
   ]
  },
  {
   "cell_type": "markdown",
   "metadata": {},
   "source": [
    "Jest jeden taki przypadek - usuńmy go."
   ]
  },
  {
   "cell_type": "code",
   "execution_count": 154,
   "metadata": {},
   "outputs": [
    {
     "data": {
      "image/png": "[encoded data removed]",
      "text/plain": [
       "<Figure size 640x480 with 1 Axes>"
      ]
     },
     "metadata": {},
     "output_type": "display_data"
    }
   ],
   "source": [
    "iris = iris[iris['sepal_width_cm'] > 0.0]\n",
    "\n",
    "sb.boxplot(data=iris);"
   ]
  },
  {
   "cell_type": "markdown",
   "metadata": {
    "slideshow": {
     "slide_type": "slide"
    }
   },
   "source": [
    "Badając rozkład danych przyjrzyjmy się również rozkładowi danych dla każdej pary zmiennych.   \n",
    "Grupy przypadków zaznaczmy różnymi kolorami."
   ]
  },
  {
   "cell_type": "code",
   "execution_count": 155,
   "metadata": {
    "scrolled": true
   },
   "outputs": [
    {
     "data": {
      "image/png": "[encoded data removed]",
      "text/plain": [
       "<Figure size 1143x1000 with 20 Axes>"
      ]
     },
     "metadata": {},
     "output_type": "display_data"
    }
   ],
   "source": [
    "import seaborn as sb\n",
    "import matplotlib.pyplot as plt\n",
    "\n",
    "sb.pairplot(iris, hue='class')\n",
    "plt.show()"
   ]
  },
  {
   "cell_type": "markdown",
   "metadata": {
    "slideshow": {
     "slide_type": "-"
    }
   },
   "source": [
    "Z tego wykresu możemy wysnuć od razu następujące wnioski:\n",
    "- wartości odstające w zmiennej `sepal_length_cm` są bardzo wyraźnie widoczne i dotyczą odmiany Iris-Versicolor,\n",
    "- domena klasy (`class`) ma 5 unikalnych wartości, podczas gdy powinna mieć ich 3."
   ]
  },
  {
   "cell_type": "markdown",
   "metadata": {
    "slideshow": {
     "slide_type": "slide"
    }
   },
   "source": [
    "Zbadajmy najpierw zmienną `class`. Jest to zmienna kategoryczna."
   ]
  },
  {
   "cell_type": "code",
   "execution_count": 156,
   "metadata": {},
   "outputs": [
    {
     "name": "stdout",
     "output_type": "stream",
     "text": [
      "['Iris-setosa' 'Iris-setossa' 'Iris-versicolor' 'versicolor'\n",
      " 'Iris-virginica']\n"
     ]
    },
    {
     "data": {
      "text/plain": [
       "class\n",
       "Iris-virginica     53\n",
       "Iris-versicolor    45\n",
       "Iris-setosa        44\n",
       "versicolor          5\n",
       "Iris-setossa        1\n",
       "Name: count, dtype: int64"
      ]
     },
     "execution_count": 156,
     "metadata": {},
     "output_type": "execute_result"
    }
   ],
   "source": [
    "# wypiszmy jakie posiaday unikalne wartośći w kolumnie class\n",
    "print(iris['class'].unique())\n",
    "\n",
    "iris['class'].value_counts()"
   ]
  },
  {
   "cell_type": "markdown",
   "metadata": {},
   "source": [
    "Możemy zauważyć, że dwie etykiety `versicolor` i `Iris-setossa` są wynikiem błedu w zapisie, do którego mogło dojść podczas wprowadzania danych. Poprawmy to. Funkcja [DataFrame.replace()](https://pandas.pydata.org/pandas-docs/stable/reference/api/pandas.DataFrame.replace.html) pozwala zmienić wartości zmiennych."
   ]
  },
  {
   "cell_type": "markdown",
   "metadata": {
    "slideshow": {
     "slide_type": "slide"
    }
   },
   "source": [
    "### Ćwiczenie\n",
    "\n",
    "Popraw błedy w nazwach klas. Prawidłowe nawy klas to: ``Iris-setosa``, ``Iris-virginica``, ``Iris-versicolor``"
   ]
  },
  {
   "cell_type": "code",
   "execution_count": null,
   "metadata": {},
   "outputs": [],
   "source": [
    "\n",
    "\n"
   ]
  },
  {
   "cell_type": "markdown",
   "metadata": {
    "slideshow": {
     "slide_type": "slide"
    }
   },
   "source": [
    "## Błędy w danych\n",
    "\n",
    "Przyjrzyjmy się też danym w zmiennej  `sepal_length_cm` odmiany `Iris-versicolor`, które posiadają podejrzanie małe wartości, mniejsze od 2.5cm "
   ]
  },
  {
   "cell_type": "code",
   "execution_count": 157,
   "metadata": {},
   "outputs": [
    {
     "data": {
      "application/vnd.microsoft.datawrangler.viewer.v0+json": {
       "columns": [
        {
         "name": "index",
         "rawType": "int64",
         "type": "integer"
        },
        {
         "name": "sepal_length_cm",
         "rawType": "float64",
         "type": "float"
        },
        {
         "name": "sepal_width_cm",
         "rawType": "float64",
         "type": "float"
        },
        {
         "name": "petal_length_cm",
         "rawType": "float64",
         "type": "float"
        },
        {
         "name": "petal_width_cm",
         "rawType": "float64",
         "type": "float"
        },
        {
         "name": "class",
         "rawType": "object",
         "type": "string"
        }
       ],
       "conversionMethod": "pd.DataFrame",
       "ref": "831ad4b7-1086-4b84-9151-3b4cf167e744",
       "rows": [
        [
         "77",
         "0.067",
         "3.0",
         "5.0",
         "1.7",
         "Iris-versicolor"
        ],
        [
         "78",
         "0.06",
         "3.0",
         "4.5",
         "1.5",
         "Iris-versicolor"
        ],
        [
         "79",
         "0.057",
         "2.6",
         "3.5",
         "1.0",
         "Iris-versicolor"
        ],
        [
         "80",
         "0.055",
         "2.4",
         "3.8",
         "1.1",
         "Iris-versicolor"
        ],
        [
         "81",
         "0.055",
         "2.4",
         "3.7",
         "1.0",
         "Iris-versicolor"
        ]
       ],
       "shape": {
        "columns": 5,
        "rows": 5
       }
      },
      "text/html": [
       "<div>\n",
       "<style scoped>\n",
       "    .dataframe tbody tr th:only-of-type {\n",
       "        vertical-align: middle;\n",
       "    }\n",
       "\n",
       "    .dataframe tbody tr th {\n",
       "        vertical-align: top;\n",
       "    }\n",
       "\n",
       "    .dataframe thead th {\n",
       "        text-align: right;\n",
       "    }\n",
       "</style>\n",
       "<table border=\"1\" class=\"dataframe\">\n",
       "  <thead>\n",
       "    <tr style=\"text-align: right;\">\n",
       "      <th></th>\n",
       "      <th>sepal_length_cm</th>\n",
       "      <th>sepal_width_cm</th>\n",
       "      <th>petal_length_cm</th>\n",
       "      <th>petal_width_cm</th>\n",
       "      <th>class</th>\n",
       "    </tr>\n",
       "  </thead>\n",
       "  <tbody>\n",
       "    <tr>\n",
       "      <th>77</th>\n",
       "      <td>0.067</td>\n",
       "      <td>3.0</td>\n",
       "      <td>5.0</td>\n",
       "      <td>1.7</td>\n",
       "      <td>Iris-versicolor</td>\n",
       "    </tr>\n",
       "    <tr>\n",
       "      <th>78</th>\n",
       "      <td>0.060</td>\n",
       "      <td>3.0</td>\n",
       "      <td>4.5</td>\n",
       "      <td>1.5</td>\n",
       "      <td>Iris-versicolor</td>\n",
       "    </tr>\n",
       "    <tr>\n",
       "      <th>79</th>\n",
       "      <td>0.057</td>\n",
       "      <td>2.6</td>\n",
       "      <td>3.5</td>\n",
       "      <td>1.0</td>\n",
       "      <td>Iris-versicolor</td>\n",
       "    </tr>\n",
       "    <tr>\n",
       "      <th>80</th>\n",
       "      <td>0.055</td>\n",
       "      <td>2.4</td>\n",
       "      <td>3.8</td>\n",
       "      <td>1.1</td>\n",
       "      <td>Iris-versicolor</td>\n",
       "    </tr>\n",
       "    <tr>\n",
       "      <th>81</th>\n",
       "      <td>0.055</td>\n",
       "      <td>2.4</td>\n",
       "      <td>3.7</td>\n",
       "      <td>1.0</td>\n",
       "      <td>Iris-versicolor</td>\n",
       "    </tr>\n",
       "  </tbody>\n",
       "</table>\n",
       "</div>"
      ],
      "text/plain": [
       "    sepal_length_cm  sepal_width_cm  petal_length_cm  petal_width_cm  \\\n",
       "77            0.067             3.0              5.0             1.7   \n",
       "78            0.060             3.0              4.5             1.5   \n",
       "79            0.057             2.6              3.5             1.0   \n",
       "80            0.055             2.4              3.8             1.1   \n",
       "81            0.055             2.4              3.7             1.0   \n",
       "\n",
       "              class  \n",
       "77  Iris-versicolor  \n",
       "78  Iris-versicolor  \n",
       "79  Iris-versicolor  \n",
       "80  Iris-versicolor  \n",
       "81  Iris-versicolor  "
      ]
     },
     "execution_count": 157,
     "metadata": {},
     "output_type": "execute_result"
    }
   ],
   "source": [
    "#dla ułatwienia najpierw zapiszmy indeks do wykrajania dla tych danych\n",
    "broken_slice_idx = (iris['class'] == 'Iris-versicolor') & (iris['sepal_length_cm'] < 2.5)\n",
    "\n",
    "iris.loc[broken_slice_idx]"
   ]
  },
  {
   "cell_type": "markdown",
   "metadata": {
    "slideshow": {
     "slide_type": "-"
    }
   },
   "source": [
    "Możemy wrócić, do tabeli ze statystkami i zauważyć, że wartość `sepal_length_cm` wynosiła średnio 5.6 $\\pm$ 1.3. "
   ]
  },
  {
   "cell_type": "code",
   "execution_count": 158,
   "metadata": {},
   "outputs": [
    {
     "name": "stdout",
     "output_type": "stream",
     "text": [
      "5.7 +- 1.3\n"
     ]
    }
   ],
   "source": [
    "print(\"%.1f +- %.1f\" % (iris.sepal_length_cm.mean() , iris.sepal_length_cm.std()))"
   ]
  },
  {
   "cell_type": "markdown",
   "metadata": {
    "slideshow": {
     "slide_type": "-"
    }
   },
   "source": [
    "Wygląda na to że podczas wprowadzania danych zostały pomylone jednostki miary, dane zostały wprowadzone w milimetrach zamiast w cm. Oczywiście to należałoby w jakiś sposób potwierdzić, ale na ten moment zmieńmy jednostki dla tych danych."
   ]
  },
  {
   "cell_type": "code",
   "execution_count": 159,
   "metadata": {
    "slideshow": {
     "slide_type": "slide"
    }
   },
   "outputs": [],
   "source": [
    "iris.loc[broken_slice_idx, 'sepal_length_cm'] *= 100.0"
   ]
  },
  {
   "cell_type": "code",
   "execution_count": 160,
   "metadata": {},
   "outputs": [
    {
     "data": {
      "image/png": "[encoded data removed]",
      "text/plain": [
       "<Figure size 640x480 with 1 Axes>"
      ]
     },
     "metadata": {},
     "output_type": "display_data"
    }
   ],
   "source": [
    "sb.boxplot(data=iris);"
   ]
  },
  {
   "cell_type": "code",
   "execution_count": 161,
   "metadata": {},
   "outputs": [
    {
     "data": {
      "image/png": "[encoded data removed]",
      "text/plain": [
       "<Figure size 1143x1000 with 20 Axes>"
      ]
     },
     "metadata": {},
     "output_type": "display_data"
    }
   ],
   "source": [
    "sb.pairplot(iris, hue='class')\n",
    "plt.show()"
   ]
  },
  {
   "cell_type": "markdown",
   "metadata": {
    "slideshow": {
     "slide_type": "slide"
    }
   },
   "source": [
    "## Duplikaty\n",
    "\n"
   ]
  },
  {
   "cell_type": "markdown",
   "metadata": {},
   "source": [
    "Dane mogą zawierać powtarzające się pomiary, np. w wyniku nieuwagi pomiary jednego obiektu mogły zostać kilkukrotnie wpisane do bazy danych. W przypadku danych Irys nie mamy pewności, czy powtarzające się dane są wynikami uzyskanymi dla  różnych kwiatów. Spróbujmy jednak poszukać powtarzających się wierszy i je usunąć.\n",
    "\n",
    "Wypiszmy najpierw wszystkie wiersze, które się duplikują. Funkcja [DataFrame.duplicated()](https://pandas.pydata.org/pandas-docs/stable/reference/api/pandas.DataFrame.duplicated.html) zwraca serię binarną określającą powtarzające sie przypadki. "
   ]
  },
  {
   "cell_type": "code",
   "execution_count": 162,
   "metadata": {},
   "outputs": [
    {
     "data": {
      "text/plain": [
       "0      False\n",
       "1      False\n",
       "2      False\n",
       "3      False\n",
       "4      False\n",
       "       ...  \n",
       "148    False\n",
       "149    False\n",
       "150     True\n",
       "152     True\n",
       "153    False\n",
       "Length: 148, dtype: bool"
      ]
     },
     "execution_count": 162,
     "metadata": {},
     "output_type": "execute_result"
    }
   ],
   "source": [
    "iris_d = iris.duplicated(keep=False)\n",
    "iris_d"
   ]
  },
  {
   "cell_type": "code",
   "execution_count": 163,
   "metadata": {},
   "outputs": [
    {
     "data": {
      "application/vnd.microsoft.datawrangler.viewer.v0+json": {
       "columns": [
        {
         "name": "index",
         "rawType": "int64",
         "type": "integer"
        },
        {
         "name": "sepal_length_cm",
         "rawType": "float64",
         "type": "float"
        },
        {
         "name": "sepal_width_cm",
         "rawType": "float64",
         "type": "float"
        },
        {
         "name": "petal_length_cm",
         "rawType": "float64",
         "type": "float"
        },
        {
         "name": "petal_width_cm",
         "rawType": "float64",
         "type": "float"
        },
        {
         "name": "class",
         "rawType": "object",
         "type": "string"
        }
       ],
       "conversionMethod": "pd.DataFrame",
       "ref": "8ed72b34-cc0f-4392-a4aa-65a1a462f5b8",
       "rows": [
        [
         "34",
         "4.9",
         "3.1",
         "1.5",
         "0.1",
         "Iris-setosa"
        ],
        [
         "37",
         "4.9",
         "3.1",
         "1.5",
         "0.1",
         "Iris-setosa"
        ],
        [
         "101",
         "5.8",
         "2.7",
         "5.1",
         "1.9",
         "Iris-virginica"
        ],
        [
         "127",
         "6.2",
         "2.8",
         "4.8",
         "1.8",
         "Iris-virginica"
        ],
        [
         "143",
         "5.8",
         "2.7",
         "5.1",
         "1.9",
         "Iris-virginica"
        ],
        [
         "146",
         "6.7",
         "3.0",
         "5.2",
         "2.3",
         "Iris-virginica"
        ],
        [
         "150",
         "6.7",
         "3.0",
         "5.2",
         "2.3",
         "Iris-virginica"
        ],
        [
         "152",
         "6.2",
         "2.8",
         "4.8",
         "1.8",
         "Iris-virginica"
        ]
       ],
       "shape": {
        "columns": 5,
        "rows": 8
       }
      },
      "text/html": [
       "<div>\n",
       "<style scoped>\n",
       "    .dataframe tbody tr th:only-of-type {\n",
       "        vertical-align: middle;\n",
       "    }\n",
       "\n",
       "    .dataframe tbody tr th {\n",
       "        vertical-align: top;\n",
       "    }\n",
       "\n",
       "    .dataframe thead th {\n",
       "        text-align: right;\n",
       "    }\n",
       "</style>\n",
       "<table border=\"1\" class=\"dataframe\">\n",
       "  <thead>\n",
       "    <tr style=\"text-align: right;\">\n",
       "      <th></th>\n",
       "      <th>sepal_length_cm</th>\n",
       "      <th>sepal_width_cm</th>\n",
       "      <th>petal_length_cm</th>\n",
       "      <th>petal_width_cm</th>\n",
       "      <th>class</th>\n",
       "    </tr>\n",
       "  </thead>\n",
       "  <tbody>\n",
       "    <tr>\n",
       "      <th>34</th>\n",
       "      <td>4.9</td>\n",
       "      <td>3.1</td>\n",
       "      <td>1.5</td>\n",
       "      <td>0.1</td>\n",
       "      <td>Iris-setosa</td>\n",
       "    </tr>\n",
       "    <tr>\n",
       "      <th>37</th>\n",
       "      <td>4.9</td>\n",
       "      <td>3.1</td>\n",
       "      <td>1.5</td>\n",
       "      <td>0.1</td>\n",
       "      <td>Iris-setosa</td>\n",
       "    </tr>\n",
       "    <tr>\n",
       "      <th>101</th>\n",
       "      <td>5.8</td>\n",
       "      <td>2.7</td>\n",
       "      <td>5.1</td>\n",
       "      <td>1.9</td>\n",
       "      <td>Iris-virginica</td>\n",
       "    </tr>\n",
       "    <tr>\n",
       "      <th>127</th>\n",
       "      <td>6.2</td>\n",
       "      <td>2.8</td>\n",
       "      <td>4.8</td>\n",
       "      <td>1.8</td>\n",
       "      <td>Iris-virginica</td>\n",
       "    </tr>\n",
       "    <tr>\n",
       "      <th>143</th>\n",
       "      <td>5.8</td>\n",
       "      <td>2.7</td>\n",
       "      <td>5.1</td>\n",
       "      <td>1.9</td>\n",
       "      <td>Iris-virginica</td>\n",
       "    </tr>\n",
       "    <tr>\n",
       "      <th>146</th>\n",
       "      <td>6.7</td>\n",
       "      <td>3.0</td>\n",
       "      <td>5.2</td>\n",
       "      <td>2.3</td>\n",
       "      <td>Iris-virginica</td>\n",
       "    </tr>\n",
       "    <tr>\n",
       "      <th>150</th>\n",
       "      <td>6.7</td>\n",
       "      <td>3.0</td>\n",
       "      <td>5.2</td>\n",
       "      <td>2.3</td>\n",
       "      <td>Iris-virginica</td>\n",
       "    </tr>\n",
       "    <tr>\n",
       "      <th>152</th>\n",
       "      <td>6.2</td>\n",
       "      <td>2.8</td>\n",
       "      <td>4.8</td>\n",
       "      <td>1.8</td>\n",
       "      <td>Iris-virginica</td>\n",
       "    </tr>\n",
       "  </tbody>\n",
       "</table>\n",
       "</div>"
      ],
      "text/plain": [
       "     sepal_length_cm  sepal_width_cm  petal_length_cm  petal_width_cm  \\\n",
       "34               4.9             3.1              1.5             0.1   \n",
       "37               4.9             3.1              1.5             0.1   \n",
       "101              5.8             2.7              5.1             1.9   \n",
       "127              6.2             2.8              4.8             1.8   \n",
       "143              5.8             2.7              5.1             1.9   \n",
       "146              6.7             3.0              5.2             2.3   \n",
       "150              6.7             3.0              5.2             2.3   \n",
       "152              6.2             2.8              4.8             1.8   \n",
       "\n",
       "              class  \n",
       "34      Iris-setosa  \n",
       "37      Iris-setosa  \n",
       "101  Iris-virginica  \n",
       "127  Iris-virginica  \n",
       "143  Iris-virginica  \n",
       "146  Iris-virginica  \n",
       "150  Iris-virginica  \n",
       "152  Iris-virginica  "
      ]
     },
     "execution_count": 163,
     "metadata": {},
     "output_type": "execute_result"
    }
   ],
   "source": [
    "iris[iris_d]"
   ]
  },
  {
   "cell_type": "markdown",
   "metadata": {
    "slideshow": {
     "slide_type": "slide"
    }
   },
   "source": [
    "Argument `keep='first'` metody `duplicated()` pozostawia pierwsze wystąpienie powtarzającego się wiersza i pozwala zindeksować pozostałe duplikaty. Usuńmy wszystkie (oprócz pierwszego) powtarzające się pomiary."
   ]
  },
  {
   "cell_type": "code",
   "execution_count": 164,
   "metadata": {},
   "outputs": [
    {
     "name": "stdout",
     "output_type": "stream",
     "text": [
      "Ilość powtarzających się przypadków = 4\n"
     ]
    }
   ],
   "source": [
    "iris_d = iris.duplicated(keep='first')\n",
    "print('Ilość powtarzających się przypadków = %d' % (iris_d.sum()))"
   ]
  },
  {
   "cell_type": "markdown",
   "metadata": {},
   "source": [
    "Pozostaje tylko usunąc oznaczone duplikaty. Można to też wykonać automatycznie fukcją  [DataFrame.drop_duplicates()](https://pandas.pydata.org/pandas-docs/stable/reference/api/pandas.DataFrame.drop_duplicates.html) "
   ]
  },
  {
   "cell_type": "code",
   "execution_count": 165,
   "metadata": {},
   "outputs": [
    {
     "name": "stdout",
     "output_type": "stream",
     "text": [
      "Liczba przypadków przed selekcją = 148\n",
      "Liczba przypadków po odrzuceniu powtarzających się przypadków  = 144\n"
     ]
    }
   ],
   "source": [
    "print('Liczba przypadków przed selekcją = %d' % (iris.shape[0]))\n",
    "iris = iris.drop_duplicates(keep='first')\n",
    "print('Liczba przypadków po odrzuceniu powtarzających się przypadków  = %d' % (iris.shape[0]))"
   ]
  },
  {
   "cell_type": "markdown",
   "metadata": {
    "slideshow": {
     "slide_type": "slide"
    }
   },
   "source": [
    "## Standaryzacja danych\n",
    "\n",
    "Standaryzacja  - normalizacja zmiennych zamieniająca średnią $\\mu$ na 0 (centrowanie) a odchylenie standardowe $\\sigma$ na 1\n",
    "\n",
    "$$\n",
    "z=\\frac{x-\\mu}{\\sigma}\n",
    "$$"
   ]
  },
  {
   "cell_type": "code",
   "execution_count": 166,
   "metadata": {},
   "outputs": [
    {
     "data": {
      "application/vnd.microsoft.datawrangler.viewer.v0+json": {
       "columns": [
        {
         "name": "index",
         "rawType": "object",
         "type": "string"
        },
        {
         "name": "sepal_length_cm",
         "rawType": "float64",
         "type": "float"
        },
        {
         "name": "sepal_width_cm",
         "rawType": "float64",
         "type": "float"
        },
        {
         "name": "petal_length_cm",
         "rawType": "float64",
         "type": "float"
        },
        {
         "name": "petal_width_cm",
         "rawType": "float64",
         "type": "float"
        }
       ],
       "conversionMethod": "pd.DataFrame",
       "ref": "53670660-6b31-4404-8720-315ef71b97a9",
       "rows": [
        [
         "count",
         "144.0",
         "144.0",
         "144.0",
         "144.0"
        ],
        [
         "mean",
         "3.9474596431116675e-16",
         "-1.7270135938613546e-16",
         "-2.9605947323337506e-16",
         "0.0"
        ],
        [
         "std",
         "1.0000000000000007",
         "1.0",
         "1.0000000000000007",
         "0.9999999999999998"
        ],
        [
         "min",
         "-1.8734612044103236",
         "-2.3642588102072963",
         "-1.6414568084808085",
         "-1.5222931932562362"
        ],
        [
         "25%",
         "-0.8486167076674355",
         "-0.5509258212866541",
         "-1.2961393790852842",
         "-1.1222745439334296"
        ],
        [
         "50%",
         "-0.07998333511026971",
         "-0.09759257405649308",
         "0.3153419580938295",
         "0.14445117892212453"
        ],
        [
         "75%",
         "0.6886500374468972",
         "0.5824072967887475",
         "0.7182122923886074",
         "0.7444791529063345"
        ],
        [
         "max",
         "2.6102334688398128",
         "3.0757401565546325",
         "1.7541645805751809",
         "1.6778560013262165"
        ]
       ],
       "shape": {
        "columns": 4,
        "rows": 8
       }
      },
      "text/html": [
       "<div>\n",
       "<style scoped>\n",
       "    .dataframe tbody tr th:only-of-type {\n",
       "        vertical-align: middle;\n",
       "    }\n",
       "\n",
       "    .dataframe tbody tr th {\n",
       "        vertical-align: top;\n",
       "    }\n",
       "\n",
       "    .dataframe thead th {\n",
       "        text-align: right;\n",
       "    }\n",
       "</style>\n",
       "<table border=\"1\" class=\"dataframe\">\n",
       "  <thead>\n",
       "    <tr style=\"text-align: right;\">\n",
       "      <th></th>\n",
       "      <th>sepal_length_cm</th>\n",
       "      <th>sepal_width_cm</th>\n",
       "      <th>petal_length_cm</th>\n",
       "      <th>petal_width_cm</th>\n",
       "    </tr>\n",
       "  </thead>\n",
       "  <tbody>\n",
       "    <tr>\n",
       "      <th>count</th>\n",
       "      <td>1.440000e+02</td>\n",
       "      <td>1.440000e+02</td>\n",
       "      <td>1.440000e+02</td>\n",
       "      <td>144.000000</td>\n",
       "    </tr>\n",
       "    <tr>\n",
       "      <th>mean</th>\n",
       "      <td>3.947460e-16</td>\n",
       "      <td>-1.727014e-16</td>\n",
       "      <td>-2.960595e-16</td>\n",
       "      <td>0.000000</td>\n",
       "    </tr>\n",
       "    <tr>\n",
       "      <th>std</th>\n",
       "      <td>1.000000e+00</td>\n",
       "      <td>1.000000e+00</td>\n",
       "      <td>1.000000e+00</td>\n",
       "      <td>1.000000</td>\n",
       "    </tr>\n",
       "    <tr>\n",
       "      <th>min</th>\n",
       "      <td>-1.873461e+00</td>\n",
       "      <td>-2.364259e+00</td>\n",
       "      <td>-1.641457e+00</td>\n",
       "      <td>-1.522293</td>\n",
       "    </tr>\n",
       "    <tr>\n",
       "      <th>25%</th>\n",
       "      <td>-8.486167e-01</td>\n",
       "      <td>-5.509258e-01</td>\n",
       "      <td>-1.296139e+00</td>\n",
       "      <td>-1.122275</td>\n",
       "    </tr>\n",
       "    <tr>\n",
       "      <th>50%</th>\n",
       "      <td>-7.998334e-02</td>\n",
       "      <td>-9.759257e-02</td>\n",
       "      <td>3.153420e-01</td>\n",
       "      <td>0.144451</td>\n",
       "    </tr>\n",
       "    <tr>\n",
       "      <th>75%</th>\n",
       "      <td>6.886500e-01</td>\n",
       "      <td>5.824073e-01</td>\n",
       "      <td>7.182123e-01</td>\n",
       "      <td>0.744479</td>\n",
       "    </tr>\n",
       "    <tr>\n",
       "      <th>max</th>\n",
       "      <td>2.610233e+00</td>\n",
       "      <td>3.075740e+00</td>\n",
       "      <td>1.754165e+00</td>\n",
       "      <td>1.677856</td>\n",
       "    </tr>\n",
       "  </tbody>\n",
       "</table>\n",
       "</div>"
      ],
      "text/plain": [
       "       sepal_length_cm  sepal_width_cm  petal_length_cm  petal_width_cm\n",
       "count     1.440000e+02    1.440000e+02     1.440000e+02      144.000000\n",
       "mean      3.947460e-16   -1.727014e-16    -2.960595e-16        0.000000\n",
       "std       1.000000e+00    1.000000e+00     1.000000e+00        1.000000\n",
       "min      -1.873461e+00   -2.364259e+00    -1.641457e+00       -1.522293\n",
       "25%      -8.486167e-01   -5.509258e-01    -1.296139e+00       -1.122275\n",
       "50%      -7.998334e-02   -9.759257e-02     3.153420e-01        0.144451\n",
       "75%       6.886500e-01    5.824073e-01     7.182123e-01        0.744479\n",
       "max       2.610233e+00    3.075740e+00     1.754165e+00        1.677856"
      ]
     },
     "execution_count": 166,
     "metadata": {},
     "output_type": "execute_result"
    },
    {
     "data": {
      "image/png": "[encoded data removed]",
      "text/plain": [
       "<Figure size 640x480 with 1 Axes>"
      ]
     },
     "metadata": {},
     "output_type": "display_data"
    }
   ],
   "source": [
    "import numpy as np\n",
    "\n",
    "iris_num = iris.select_dtypes(include=np.number)\n",
    "\n",
    "iris_std = (iris_num - iris_num.mean()) / iris_num.std()\n",
    "\n",
    "iris_std.plot(kind='box')\n",
    "# pd.options.display.float_format = '{:,.2f}'.format\n",
    "iris_std.describe()"
   ]
  },
  {
   "cell_type": "markdown",
   "metadata": {
    "slideshow": {
     "slide_type": "slide"
    }
   },
   "source": [
    "Zwykle przyjmuje się, że wartości odstające leżą dalej niż 3 odchylenia standardowe"
   ]
  },
  {
   "cell_type": "code",
   "execution_count": 167,
   "metadata": {
    "slideshow": {
     "slide_type": "-"
    }
   },
   "outputs": [
    {
     "data": {
      "application/vnd.microsoft.datawrangler.viewer.v0+json": {
       "columns": [
        {
         "name": "index",
         "rawType": "int64",
         "type": "integer"
        },
        {
         "name": "sepal_length_cm",
         "rawType": "float64",
         "type": "float"
        },
        {
         "name": "sepal_width_cm",
         "rawType": "float64",
         "type": "float"
        },
        {
         "name": "petal_length_cm",
         "rawType": "float64",
         "type": "float"
        },
        {
         "name": "petal_width_cm",
         "rawType": "float64",
         "type": "float"
        },
        {
         "name": "class",
         "rawType": "object",
         "type": "string"
        }
       ],
       "conversionMethod": "pd.DataFrame",
       "ref": "8f1be613-9a4f-408b-b4ab-76d8aa3c88f4",
       "rows": [
        [
         "15",
         "5.7",
         "4.4",
         "1.5",
         "0.4",
         "Iris-setosa"
        ]
       ],
       "shape": {
        "columns": 5,
        "rows": 1
       }
      },
      "text/html": [
       "<div>\n",
       "<style scoped>\n",
       "    .dataframe tbody tr th:only-of-type {\n",
       "        vertical-align: middle;\n",
       "    }\n",
       "\n",
       "    .dataframe tbody tr th {\n",
       "        vertical-align: top;\n",
       "    }\n",
       "\n",
       "    .dataframe thead th {\n",
       "        text-align: right;\n",
       "    }\n",
       "</style>\n",
       "<table border=\"1\" class=\"dataframe\">\n",
       "  <thead>\n",
       "    <tr style=\"text-align: right;\">\n",
       "      <th></th>\n",
       "      <th>sepal_length_cm</th>\n",
       "      <th>sepal_width_cm</th>\n",
       "      <th>petal_length_cm</th>\n",
       "      <th>petal_width_cm</th>\n",
       "      <th>class</th>\n",
       "    </tr>\n",
       "  </thead>\n",
       "  <tbody>\n",
       "    <tr>\n",
       "      <th>15</th>\n",
       "      <td>5.7</td>\n",
       "      <td>4.4</td>\n",
       "      <td>1.5</td>\n",
       "      <td>0.4</td>\n",
       "      <td>Iris-setosa</td>\n",
       "    </tr>\n",
       "  </tbody>\n",
       "</table>\n",
       "</div>"
      ],
      "text/plain": [
       "    sepal_length_cm  sepal_width_cm  petal_length_cm  petal_width_cm  \\\n",
       "15              5.7             4.4              1.5             0.4   \n",
       "\n",
       "          class  \n",
       "15  Iris-setosa  "
      ]
     },
     "execution_count": 167,
     "metadata": {},
     "output_type": "execute_result"
    }
   ],
   "source": [
    "outliers = ((iris_std > 3) | (iris_std < -3)).any(axis=1)\n",
    "\n",
    "iris[outliers]"
   ]
  },
  {
   "cell_type": "markdown",
   "metadata": {
    "slideshow": {
     "slide_type": "slide"
    }
   },
   "source": [
    "## Normalizacja\n",
    "\n",
    "Normalizacja wartości zmiennych w ustalonym zakresie, zazwyczaj $[-1, 1]$\n",
    "\n",
    "$$\n",
    "z= 2 \\frac{x - x_{min}}{x_{max}-x_{min}} - 1\n",
    "$$\n",
    "\n"
   ]
  },
  {
   "cell_type": "code",
   "execution_count": 168,
   "metadata": {},
   "outputs": [
    {
     "data": {
      "application/vnd.microsoft.datawrangler.viewer.v0+json": {
       "columns": [
        {
         "name": "index",
         "rawType": "object",
         "type": "string"
        },
        {
         "name": "sepal_length_cm",
         "rawType": "float64",
         "type": "float"
        },
        {
         "name": "sepal_width_cm",
         "rawType": "float64",
         "type": "float"
        },
        {
         "name": "petal_length_cm",
         "rawType": "float64",
         "type": "float"
        },
        {
         "name": "petal_width_cm",
         "rawType": "float64",
         "type": "float"
        }
       ],
       "conversionMethod": "pd.DataFrame",
       "ref": "da55569e-5747-4641-944a-7981affef774",
       "rows": [
        [
         "count",
         "144.0",
         "144.0",
         "144.0",
         "144.0"
        ],
        [
         "mean",
         "-0.16432257727652486",
         "-0.13078703703703717",
         "-0.033192090395480246",
         "-0.04861111111111106"
        ],
        [
         "std",
         "0.446060703448891",
         "0.36764712865202365",
         "0.5889938161085787",
         "0.6249708617916344"
        ],
        [
         "min",
         "-1.0",
         "-1.0",
         "-1.0",
         "-1.0"
        ],
        [
         "25%",
         "-0.5428571428571429",
         "-0.3333333333333336",
         "-0.7966101694915254",
         "-0.75"
        ],
        [
         "50%",
         "-0.2000000000000003",
         "-0.16666666666666674",
         "0.15254237288135597",
         "0.04166666666666663"
        ],
        [
         "75%",
         "0.1428571428571428",
         "0.08333333333333304",
         "0.3898305084745761",
         "0.41666666666666674"
        ],
        [
         "max",
         "1.0",
         "1.0",
         "1.0",
         "1.0"
        ]
       ],
       "shape": {
        "columns": 4,
        "rows": 8
       }
      },
      "text/html": [
       "<div>\n",
       "<style scoped>\n",
       "    .dataframe tbody tr th:only-of-type {\n",
       "        vertical-align: middle;\n",
       "    }\n",
       "\n",
       "    .dataframe tbody tr th {\n",
       "        vertical-align: top;\n",
       "    }\n",
       "\n",
       "    .dataframe thead th {\n",
       "        text-align: right;\n",
       "    }\n",
       "</style>\n",
       "<table border=\"1\" class=\"dataframe\">\n",
       "  <thead>\n",
       "    <tr style=\"text-align: right;\">\n",
       "      <th></th>\n",
       "      <th>sepal_length_cm</th>\n",
       "      <th>sepal_width_cm</th>\n",
       "      <th>petal_length_cm</th>\n",
       "      <th>petal_width_cm</th>\n",
       "    </tr>\n",
       "  </thead>\n",
       "  <tbody>\n",
       "    <tr>\n",
       "      <th>count</th>\n",
       "      <td>144.000000</td>\n",
       "      <td>144.000000</td>\n",
       "      <td>144.000000</td>\n",
       "      <td>144.000000</td>\n",
       "    </tr>\n",
       "    <tr>\n",
       "      <th>mean</th>\n",
       "      <td>-0.164323</td>\n",
       "      <td>-0.130787</td>\n",
       "      <td>-0.033192</td>\n",
       "      <td>-0.048611</td>\n",
       "    </tr>\n",
       "    <tr>\n",
       "      <th>std</th>\n",
       "      <td>0.446061</td>\n",
       "      <td>0.367647</td>\n",
       "      <td>0.588994</td>\n",
       "      <td>0.624971</td>\n",
       "    </tr>\n",
       "    <tr>\n",
       "      <th>min</th>\n",
       "      <td>-1.000000</td>\n",
       "      <td>-1.000000</td>\n",
       "      <td>-1.000000</td>\n",
       "      <td>-1.000000</td>\n",
       "    </tr>\n",
       "    <tr>\n",
       "      <th>25%</th>\n",
       "      <td>-0.542857</td>\n",
       "      <td>-0.333333</td>\n",
       "      <td>-0.796610</td>\n",
       "      <td>-0.750000</td>\n",
       "    </tr>\n",
       "    <tr>\n",
       "      <th>50%</th>\n",
       "      <td>-0.200000</td>\n",
       "      <td>-0.166667</td>\n",
       "      <td>0.152542</td>\n",
       "      <td>0.041667</td>\n",
       "    </tr>\n",
       "    <tr>\n",
       "      <th>75%</th>\n",
       "      <td>0.142857</td>\n",
       "      <td>0.083333</td>\n",
       "      <td>0.389831</td>\n",
       "      <td>0.416667</td>\n",
       "    </tr>\n",
       "    <tr>\n",
       "      <th>max</th>\n",
       "      <td>1.000000</td>\n",
       "      <td>1.000000</td>\n",
       "      <td>1.000000</td>\n",
       "      <td>1.000000</td>\n",
       "    </tr>\n",
       "  </tbody>\n",
       "</table>\n",
       "</div>"
      ],
      "text/plain": [
       "       sepal_length_cm  sepal_width_cm  petal_length_cm  petal_width_cm\n",
       "count       144.000000      144.000000       144.000000      144.000000\n",
       "mean         -0.164323       -0.130787        -0.033192       -0.048611\n",
       "std           0.446061        0.367647         0.588994        0.624971\n",
       "min          -1.000000       -1.000000        -1.000000       -1.000000\n",
       "25%          -0.542857       -0.333333        -0.796610       -0.750000\n",
       "50%          -0.200000       -0.166667         0.152542        0.041667\n",
       "75%           0.142857        0.083333         0.389831        0.416667\n",
       "max           1.000000        1.000000         1.000000        1.000000"
      ]
     },
     "execution_count": 168,
     "metadata": {},
     "output_type": "execute_result"
    },
    {
     "data": {
      "image/png": "[encoded data removed]",
      "text/plain": [
       "<Figure size 640x480 with 1 Axes>"
      ]
     },
     "metadata": {},
     "output_type": "display_data"
    }
   ],
   "source": [
    "iris_norm = 2 * (iris_num - iris_num.min()) / (iris_num.max() - iris_num.min()) - 1\n",
    "\n",
    "iris_norm.plot(kind='box')\n",
    "iris_norm.describe()"
   ]
  },
  {
   "cell_type": "markdown",
   "metadata": {
    "slideshow": {
     "slide_type": "slide"
    }
   },
   "source": [
    "## Dyskretyzacja danych\n",
    "\n",
    "Zamiana zmiennych ciągłych na dyskretne."
   ]
  },
  {
   "cell_type": "code",
   "execution_count": 169,
   "metadata": {},
   "outputs": [
    {
     "data": {
      "image/png": "[encoded data removed]",
      "text/plain": [
       "<Figure size 640x480 with 1 Axes>"
      ]
     },
     "metadata": {},
     "output_type": "display_data"
    }
   ],
   "source": [
    "iris['sepal_length_cm'].hist(bins=10);               # podział zbioru na 10 elementów"
   ]
  },
  {
   "cell_type": "markdown",
   "metadata": {},
   "source": [
    "Funkcja [Pandas.cut(x, bins)](https://pandas.pydata.org/pandas-docs/stable/reference/api/pandas.cut.html) dzieli wartości zmiennej ``x`` na ``bins`` równych przedziałów"
   ]
  },
  {
   "cell_type": "code",
   "execution_count": 170,
   "metadata": {},
   "outputs": [
    {
     "data": {
      "text/plain": [
       "sepal_length_cm\n",
       "(4.397, 5.567]    52\n",
       "(5.567, 6.733]    74\n",
       "(6.733, 7.9]      18\n",
       "Name: count, dtype: int64"
      ]
     },
     "execution_count": 170,
     "metadata": {},
     "output_type": "execute_result"
    }
   ],
   "source": [
    "bins = pd.cut(iris['sepal_length_cm'], 3)   \n",
    "\n",
    "bins.value_counts(sort=False)"
   ]
  },
  {
   "cell_type": "markdown",
   "metadata": {},
   "source": [
    "Funkcja [Pandas.qcut(x, q)](https://pandas.pydata.org/pandas-docs/stable/reference/api/pandas.qcut.html) dzieli wartości zmiennej ``x`` na ``q`` równolicznych przedziałów"
   ]
  },
  {
   "cell_type": "code",
   "execution_count": 171,
   "metadata": {},
   "outputs": [
    {
     "data": {
      "text/plain": [
       "sepal_length_cm\n",
       "a    39\n",
       "b    37\n",
       "c    35\n",
       "d    33\n",
       "Name: count, dtype: int64"
      ]
     },
     "execution_count": 171,
     "metadata": {},
     "output_type": "execute_result"
    }
   ],
   "source": [
    "bins = pd.qcut(iris['sepal_length_cm'], 4, labels=['a', 'b', 'c', 'd']) # podział zbioru na 4 podzbiory o zbliżonej liczebności \n",
    "bins.value_counts(sort=False)"
   ]
  },
  {
   "cell_type": "markdown",
   "metadata": {
    "slideshow": {
     "slide_type": "slide"
    }
   },
   "source": [
    "### Ćwiczenie\n",
    "\n",
    "Utwórz nową zmienną dyskretną ``sepal_length_size`` dzielącą zmienną ``sepal_length_cm`` na 3 równe przedziały o wartościach : ``small``, ``medium``, ``large``.   \n",
    "Wypisz wartość średnią długości ``sepal_length_cm`` w każdym z uzyskanych przediałów."
   ]
  },
  {
   "cell_type": "code",
   "execution_count": null,
   "metadata": {
    "slideshow": {
     "slide_type": "-"
    }
   },
   "outputs": [],
   "source": [
    "\n",
    "\n"
   ]
  },
  {
   "cell_type": "markdown",
   "metadata": {
    "slideshow": {
     "slide_type": "slide"
    }
   },
   "source": [
    "## Zamiana kategorycznych danych na zmienne numeryczne\n",
    "### Kodowanie one-hot\n",
    "\n",
    "Kodowanie *one-hot* (wg dokumentacji Pandas tzw. _dummy code_) - zamiana wartości kategorycznych na wektor binarny $[0, 0, 1, 0, \\ldots, 0]$ \n",
    "\n",
    "Funkcja [get_dummies(x)](https://pandas.pydata.org/pandas-docs/stable/reference/api/pandas.get_dummies.html) zamiana zmiennej ``x`` na kodowanie _one-hot_  \n",
    "\n",
    "Funkcja [from_dummies(x, )](https://pandas.pydata.org/pandas-docs/stable/reference/api/pandas.from_dummies.html) zamiana zmiennych _one-hot_ na zmienną kategoryczną  \n",
    "\n",
    "\n"
   ]
  },
  {
   "cell_type": "code",
   "execution_count": 172,
   "metadata": {},
   "outputs": [
    {
     "data": {
      "application/vnd.microsoft.datawrangler.viewer.v0+json": {
       "columns": [
        {
         "name": "index",
         "rawType": "int64",
         "type": "integer"
        },
        {
         "name": "Iris-setosa",
         "rawType": "bool",
         "type": "boolean"
        },
        {
         "name": "Iris-setossa",
         "rawType": "bool",
         "type": "boolean"
        },
        {
         "name": "Iris-versicolor",
         "rawType": "bool",
         "type": "boolean"
        },
        {
         "name": "Iris-virginica",
         "rawType": "bool",
         "type": "boolean"
        },
        {
         "name": "versicolor",
         "rawType": "bool",
         "type": "boolean"
        }
       ],
       "conversionMethod": "pd.DataFrame",
       "ref": "646d6484-d1be-427e-8bb2-37d4512c082c",
       "rows": [
        [
         "0",
         "True",
         "False",
         "False",
         "False",
         "False"
        ],
        [
         "1",
         "True",
         "False",
         "False",
         "False",
         "False"
        ],
        [
         "2",
         "True",
         "False",
         "False",
         "False",
         "False"
        ],
        [
         "3",
         "True",
         "False",
         "False",
         "False",
         "False"
        ],
        [
         "4",
         "True",
         "False",
         "False",
         "False",
         "False"
        ],
        [
         "5",
         "True",
         "False",
         "False",
         "False",
         "False"
        ],
        [
         "6",
         "True",
         "False",
         "False",
         "False",
         "False"
        ],
        [
         "12",
         "True",
         "False",
         "False",
         "False",
         "False"
        ],
        [
         "13",
         "True",
         "False",
         "False",
         "False",
         "False"
        ],
        [
         "14",
         "True",
         "False",
         "False",
         "False",
         "False"
        ],
        [
         "15",
         "True",
         "False",
         "False",
         "False",
         "False"
        ],
        [
         "16",
         "True",
         "False",
         "False",
         "False",
         "False"
        ],
        [
         "17",
         "True",
         "False",
         "False",
         "False",
         "False"
        ],
        [
         "18",
         "False",
         "True",
         "False",
         "False",
         "False"
        ],
        [
         "19",
         "True",
         "False",
         "False",
         "False",
         "False"
        ],
        [
         "20",
         "True",
         "False",
         "False",
         "False",
         "False"
        ],
        [
         "21",
         "True",
         "False",
         "False",
         "False",
         "False"
        ],
        [
         "22",
         "True",
         "False",
         "False",
         "False",
         "False"
        ],
        [
         "23",
         "True",
         "False",
         "False",
         "False",
         "False"
        ],
        [
         "24",
         "True",
         "False",
         "False",
         "False",
         "False"
        ],
        [
         "25",
         "True",
         "False",
         "False",
         "False",
         "False"
        ],
        [
         "26",
         "True",
         "False",
         "False",
         "False",
         "False"
        ],
        [
         "27",
         "True",
         "False",
         "False",
         "False",
         "False"
        ],
        [
         "28",
         "True",
         "False",
         "False",
         "False",
         "False"
        ],
        [
         "29",
         "True",
         "False",
         "False",
         "False",
         "False"
        ],
        [
         "30",
         "True",
         "False",
         "False",
         "False",
         "False"
        ],
        [
         "31",
         "True",
         "False",
         "False",
         "False",
         "False"
        ],
        [
         "32",
         "True",
         "False",
         "False",
         "False",
         "False"
        ],
        [
         "33",
         "True",
         "False",
         "False",
         "False",
         "False"
        ],
        [
         "34",
         "True",
         "False",
         "False",
         "False",
         "False"
        ],
        [
         "35",
         "True",
         "False",
         "False",
         "False",
         "False"
        ],
        [
         "36",
         "True",
         "False",
         "False",
         "False",
         "False"
        ],
        [
         "38",
         "True",
         "False",
         "False",
         "False",
         "False"
        ],
        [
         "39",
         "True",
         "False",
         "False",
         "False",
         "False"
        ],
        [
         "40",
         "True",
         "False",
         "False",
         "False",
         "False"
        ],
        [
         "41",
         "True",
         "False",
         "False",
         "False",
         "False"
        ],
        [
         "42",
         "True",
         "False",
         "False",
         "False",
         "False"
        ],
        [
         "43",
         "True",
         "False",
         "False",
         "False",
         "False"
        ],
        [
         "44",
         "True",
         "False",
         "False",
         "False",
         "False"
        ],
        [
         "45",
         "True",
         "False",
         "False",
         "False",
         "False"
        ],
        [
         "46",
         "True",
         "False",
         "False",
         "False",
         "False"
        ],
        [
         "47",
         "True",
         "False",
         "False",
         "False",
         "False"
        ],
        [
         "48",
         "True",
         "False",
         "False",
         "False",
         "False"
        ],
        [
         "49",
         "True",
         "False",
         "False",
         "False",
         "False"
        ],
        [
         "50",
         "False",
         "False",
         "True",
         "False",
         "False"
        ],
        [
         "51",
         "False",
         "False",
         "True",
         "False",
         "False"
        ],
        [
         "52",
         "False",
         "False",
         "True",
         "False",
         "False"
        ],
        [
         "53",
         "False",
         "False",
         "True",
         "False",
         "False"
        ],
        [
         "54",
         "False",
         "False",
         "True",
         "False",
         "False"
        ],
        [
         "55",
         "False",
         "False",
         "True",
         "False",
         "False"
        ]
       ],
       "shape": {
        "columns": 5,
        "rows": 144
       }
      },
      "text/html": [
       "<div>\n",
       "<style scoped>\n",
       "    .dataframe tbody tr th:only-of-type {\n",
       "        vertical-align: middle;\n",
       "    }\n",
       "\n",
       "    .dataframe tbody tr th {\n",
       "        vertical-align: top;\n",
       "    }\n",
       "\n",
       "    .dataframe thead th {\n",
       "        text-align: right;\n",
       "    }\n",
       "</style>\n",
       "<table border=\"1\" class=\"dataframe\">\n",
       "  <thead>\n",
       "    <tr style=\"text-align: right;\">\n",
       "      <th></th>\n",
       "      <th>Iris-setosa</th>\n",
       "      <th>Iris-setossa</th>\n",
       "      <th>Iris-versicolor</th>\n",
       "      <th>Iris-virginica</th>\n",
       "      <th>versicolor</th>\n",
       "    </tr>\n",
       "  </thead>\n",
       "  <tbody>\n",
       "    <tr>\n",
       "      <th>0</th>\n",
       "      <td>True</td>\n",
       "      <td>False</td>\n",
       "      <td>False</td>\n",
       "      <td>False</td>\n",
       "      <td>False</td>\n",
       "    </tr>\n",
       "    <tr>\n",
       "      <th>1</th>\n",
       "      <td>True</td>\n",
       "      <td>False</td>\n",
       "      <td>False</td>\n",
       "      <td>False</td>\n",
       "      <td>False</td>\n",
       "    </tr>\n",
       "    <tr>\n",
       "      <th>2</th>\n",
       "      <td>True</td>\n",
       "      <td>False</td>\n",
       "      <td>False</td>\n",
       "      <td>False</td>\n",
       "      <td>False</td>\n",
       "    </tr>\n",
       "    <tr>\n",
       "      <th>3</th>\n",
       "      <td>True</td>\n",
       "      <td>False</td>\n",
       "      <td>False</td>\n",
       "      <td>False</td>\n",
       "      <td>False</td>\n",
       "    </tr>\n",
       "    <tr>\n",
       "      <th>4</th>\n",
       "      <td>True</td>\n",
       "      <td>False</td>\n",
       "      <td>False</td>\n",
       "      <td>False</td>\n",
       "      <td>False</td>\n",
       "    </tr>\n",
       "    <tr>\n",
       "      <th>...</th>\n",
       "      <td>...</td>\n",
       "      <td>...</td>\n",
       "      <td>...</td>\n",
       "      <td>...</td>\n",
       "      <td>...</td>\n",
       "    </tr>\n",
       "    <tr>\n",
       "      <th>146</th>\n",
       "      <td>False</td>\n",
       "      <td>False</td>\n",
       "      <td>False</td>\n",
       "      <td>True</td>\n",
       "      <td>False</td>\n",
       "    </tr>\n",
       "    <tr>\n",
       "      <th>147</th>\n",
       "      <td>False</td>\n",
       "      <td>False</td>\n",
       "      <td>False</td>\n",
       "      <td>True</td>\n",
       "      <td>False</td>\n",
       "    </tr>\n",
       "    <tr>\n",
       "      <th>148</th>\n",
       "      <td>False</td>\n",
       "      <td>False</td>\n",
       "      <td>False</td>\n",
       "      <td>True</td>\n",
       "      <td>False</td>\n",
       "    </tr>\n",
       "    <tr>\n",
       "      <th>149</th>\n",
       "      <td>False</td>\n",
       "      <td>False</td>\n",
       "      <td>False</td>\n",
       "      <td>True</td>\n",
       "      <td>False</td>\n",
       "    </tr>\n",
       "    <tr>\n",
       "      <th>153</th>\n",
       "      <td>False</td>\n",
       "      <td>False</td>\n",
       "      <td>False</td>\n",
       "      <td>True</td>\n",
       "      <td>False</td>\n",
       "    </tr>\n",
       "  </tbody>\n",
       "</table>\n",
       "<p>144 rows × 5 columns</p>\n",
       "</div>"
      ],
      "text/plain": [
       "     Iris-setosa  Iris-setossa  Iris-versicolor  Iris-virginica  versicolor\n",
       "0           True         False            False           False       False\n",
       "1           True         False            False           False       False\n",
       "2           True         False            False           False       False\n",
       "3           True         False            False           False       False\n",
       "4           True         False            False           False       False\n",
       "..           ...           ...              ...             ...         ...\n",
       "146        False         False            False            True       False\n",
       "147        False         False            False            True       False\n",
       "148        False         False            False            True       False\n",
       "149        False         False            False            True       False\n",
       "153        False         False            False            True       False\n",
       "\n",
       "[144 rows x 5 columns]"
      ]
     },
     "execution_count": 172,
     "metadata": {},
     "output_type": "execute_result"
    }
   ],
   "source": [
    "class_one_hot = pd.get_dummies(iris['class'])\n",
    "class_one_hot"
   ]
  },
  {
   "cell_type": "code",
   "execution_count": 173,
   "metadata": {},
   "outputs": [
    {
     "data": {
      "application/vnd.microsoft.datawrangler.viewer.v0+json": {
       "columns": [
        {
         "name": "index",
         "rawType": "int64",
         "type": "integer"
        },
        {
         "name": "",
         "rawType": "object",
         "type": "string"
        }
       ],
       "conversionMethod": "pd.DataFrame",
       "ref": "58da418e-87ac-4a58-a2a2-9f6d7a4ff804",
       "rows": [
        [
         "0",
         "Iris-setosa"
        ],
        [
         "1",
         "Iris-setosa"
        ],
        [
         "2",
         "Iris-setosa"
        ],
        [
         "3",
         "Iris-setosa"
        ],
        [
         "4",
         "Iris-setosa"
        ],
        [
         "5",
         "Iris-setosa"
        ],
        [
         "6",
         "Iris-setosa"
        ],
        [
         "12",
         "Iris-setosa"
        ],
        [
         "13",
         "Iris-setosa"
        ],
        [
         "14",
         "Iris-setosa"
        ],
        [
         "15",
         "Iris-setosa"
        ],
        [
         "16",
         "Iris-setosa"
        ],
        [
         "17",
         "Iris-setosa"
        ],
        [
         "18",
         "Iris-setossa"
        ],
        [
         "19",
         "Iris-setosa"
        ],
        [
         "20",
         "Iris-setosa"
        ],
        [
         "21",
         "Iris-setosa"
        ],
        [
         "22",
         "Iris-setosa"
        ],
        [
         "23",
         "Iris-setosa"
        ],
        [
         "24",
         "Iris-setosa"
        ],
        [
         "25",
         "Iris-setosa"
        ],
        [
         "26",
         "Iris-setosa"
        ],
        [
         "27",
         "Iris-setosa"
        ],
        [
         "28",
         "Iris-setosa"
        ],
        [
         "29",
         "Iris-setosa"
        ],
        [
         "30",
         "Iris-setosa"
        ],
        [
         "31",
         "Iris-setosa"
        ],
        [
         "32",
         "Iris-setosa"
        ],
        [
         "33",
         "Iris-setosa"
        ],
        [
         "34",
         "Iris-setosa"
        ],
        [
         "35",
         "Iris-setosa"
        ],
        [
         "36",
         "Iris-setosa"
        ],
        [
         "38",
         "Iris-setosa"
        ],
        [
         "39",
         "Iris-setosa"
        ],
        [
         "40",
         "Iris-setosa"
        ],
        [
         "41",
         "Iris-setosa"
        ],
        [
         "42",
         "Iris-setosa"
        ],
        [
         "43",
         "Iris-setosa"
        ],
        [
         "44",
         "Iris-setosa"
        ],
        [
         "45",
         "Iris-setosa"
        ],
        [
         "46",
         "Iris-setosa"
        ],
        [
         "47",
         "Iris-setosa"
        ],
        [
         "48",
         "Iris-setosa"
        ],
        [
         "49",
         "Iris-setosa"
        ],
        [
         "50",
         "Iris-versicolor"
        ],
        [
         "51",
         "Iris-versicolor"
        ],
        [
         "52",
         "Iris-versicolor"
        ],
        [
         "53",
         "Iris-versicolor"
        ],
        [
         "54",
         "Iris-versicolor"
        ],
        [
         "55",
         "Iris-versicolor"
        ]
       ],
       "shape": {
        "columns": 1,
        "rows": 144
       }
      },
      "text/html": [
       "<div>\n",
       "<style scoped>\n",
       "    .dataframe tbody tr th:only-of-type {\n",
       "        vertical-align: middle;\n",
       "    }\n",
       "\n",
       "    .dataframe tbody tr th {\n",
       "        vertical-align: top;\n",
       "    }\n",
       "\n",
       "    .dataframe thead th {\n",
       "        text-align: right;\n",
       "    }\n",
       "</style>\n",
       "<table border=\"1\" class=\"dataframe\">\n",
       "  <thead>\n",
       "    <tr style=\"text-align: right;\">\n",
       "      <th></th>\n",
       "      <th></th>\n",
       "    </tr>\n",
       "  </thead>\n",
       "  <tbody>\n",
       "    <tr>\n",
       "      <th>0</th>\n",
       "      <td>Iris-setosa</td>\n",
       "    </tr>\n",
       "    <tr>\n",
       "      <th>1</th>\n",
       "      <td>Iris-setosa</td>\n",
       "    </tr>\n",
       "    <tr>\n",
       "      <th>2</th>\n",
       "      <td>Iris-setosa</td>\n",
       "    </tr>\n",
       "    <tr>\n",
       "      <th>3</th>\n",
       "      <td>Iris-setosa</td>\n",
       "    </tr>\n",
       "    <tr>\n",
       "      <th>4</th>\n",
       "      <td>Iris-setosa</td>\n",
       "    </tr>\n",
       "    <tr>\n",
       "      <th>...</th>\n",
       "      <td>...</td>\n",
       "    </tr>\n",
       "    <tr>\n",
       "      <th>146</th>\n",
       "      <td>Iris-virginica</td>\n",
       "    </tr>\n",
       "    <tr>\n",
       "      <th>147</th>\n",
       "      <td>Iris-virginica</td>\n",
       "    </tr>\n",
       "    <tr>\n",
       "      <th>148</th>\n",
       "      <td>Iris-virginica</td>\n",
       "    </tr>\n",
       "    <tr>\n",
       "      <th>149</th>\n",
       "      <td>Iris-virginica</td>\n",
       "    </tr>\n",
       "    <tr>\n",
       "      <th>153</th>\n",
       "      <td>Iris-virginica</td>\n",
       "    </tr>\n",
       "  </tbody>\n",
       "</table>\n",
       "<p>144 rows × 1 columns</p>\n",
       "</div>"
      ],
      "text/plain": [
       "                   \n",
       "0       Iris-setosa\n",
       "1       Iris-setosa\n",
       "2       Iris-setosa\n",
       "3       Iris-setosa\n",
       "4       Iris-setosa\n",
       "..              ...\n",
       "146  Iris-virginica\n",
       "147  Iris-virginica\n",
       "148  Iris-virginica\n",
       "149  Iris-virginica\n",
       "153  Iris-virginica\n",
       "\n",
       "[144 rows x 1 columns]"
      ]
     },
     "execution_count": 173,
     "metadata": {},
     "output_type": "execute_result"
    }
   ],
   "source": [
    "pd.from_dummies(class_one_hot)"
   ]
  },
  {
   "cell_type": "markdown",
   "metadata": {
    "slideshow": {
     "slide_type": "slide"
    }
   },
   "source": [
    "### Mapowanie wartości kategorycznych na liczby\n",
    "\n",
    "Metoda [Series.map(arg)](https://pandas.pydata.org/pandas-docs/stable/reference/api/pandas.Series.map.html) zamienia wartości dane w słowniku ``arg`` lub za pomocą funkci mapującej\n",
    "\n",
    "Metoda [Series.apply(fun)](https://pandas.pydata.org/pandas-docs/stable/reference/api/pandas.Series.apply.html) lub [DataFrame.apply(fun)](https://pandas.pydata.org/pandas-docs/stable/reference/api/pandas.DataFrame.apply.html) modyfikuje elementy z apomoca funkcji ``fun``"
   ]
  },
  {
   "cell_type": "code",
   "execution_count": 174,
   "metadata": {},
   "outputs": [
    {
     "ename": "KeyError",
     "evalue": "'sepal_length_size'",
     "output_type": "error",
     "traceback": [
      "\u001b[1;31m---------------------------------------------------------------------------\u001b[0m",
      "\u001b[1;31mKeyError\u001b[0m                                  Traceback (most recent call last)",
      "File \u001b[1;32mc:\\Users\\Michal\\anaconda3\\Lib\\site-packages\\pandas\\core\\indexes\\base.py:3805\u001b[0m, in \u001b[0;36mIndex.get_loc\u001b[1;34m(self, key)\u001b[0m\n\u001b[0;32m   3804\u001b[0m \u001b[38;5;28;01mtry\u001b[39;00m:\n\u001b[1;32m-> 3805\u001b[0m     \u001b[38;5;28;01mreturn\u001b[39;00m \u001b[38;5;28mself\u001b[39m\u001b[38;5;241m.\u001b[39m_engine\u001b[38;5;241m.\u001b[39mget_loc(casted_key)\n\u001b[0;32m   3806\u001b[0m \u001b[38;5;28;01mexcept\u001b[39;00m \u001b[38;5;167;01mKeyError\u001b[39;00m \u001b[38;5;28;01mas\u001b[39;00m err:\n",
      "File \u001b[1;32mindex.pyx:167\u001b[0m, in \u001b[0;36mpandas._libs.index.IndexEngine.get_loc\u001b[1;34m()\u001b[0m\n",
      "File \u001b[1;32mindex.pyx:196\u001b[0m, in \u001b[0;36mpandas._libs.index.IndexEngine.get_loc\u001b[1;34m()\u001b[0m\n",
      "File \u001b[1;32mpandas\\\\_libs\\\\hashtable_class_helper.pxi:7081\u001b[0m, in \u001b[0;36mpandas._libs.hashtable.PyObjectHashTable.get_item\u001b[1;34m()\u001b[0m\n",
      "File \u001b[1;32mpandas\\\\_libs\\\\hashtable_class_helper.pxi:7089\u001b[0m, in \u001b[0;36mpandas._libs.hashtable.PyObjectHashTable.get_item\u001b[1;34m()\u001b[0m\n",
      "\u001b[1;31mKeyError\u001b[0m: 'sepal_length_size'",
      "\nThe above exception was the direct cause of the following exception:\n",
      "\u001b[1;31mKeyError\u001b[0m                                  Traceback (most recent call last)",
      "Cell \u001b[1;32mIn[174], line 7\u001b[0m\n\u001b[0;32m      1\u001b[0m size_map \u001b[38;5;241m=\u001b[39m {\n\u001b[0;32m      2\u001b[0m     \u001b[38;5;124m'\u001b[39m\u001b[38;5;124msmall\u001b[39m\u001b[38;5;124m'\u001b[39m : \u001b[38;5;241m1\u001b[39m,\n\u001b[0;32m      3\u001b[0m     \u001b[38;5;124m'\u001b[39m\u001b[38;5;124mmedium\u001b[39m\u001b[38;5;124m'\u001b[39m : \u001b[38;5;241m2\u001b[39m,\n\u001b[0;32m      4\u001b[0m     \u001b[38;5;124m'\u001b[39m\u001b[38;5;124mlarge\u001b[39m\u001b[38;5;124m'\u001b[39m : \u001b[38;5;241m3\u001b[39m\n\u001b[0;32m      5\u001b[0m }\n\u001b[1;32m----> 7\u001b[0m size_data \u001b[38;5;241m=\u001b[39m iris[\u001b[38;5;124m'\u001b[39m\u001b[38;5;124msepal_length_size\u001b[39m\u001b[38;5;124m'\u001b[39m]\u001b[38;5;241m.\u001b[39mmap(size_map)\n\u001b[0;32m      8\u001b[0m size_data\n",
      "File \u001b[1;32mc:\\Users\\Michal\\anaconda3\\Lib\\site-packages\\pandas\\core\\frame.py:4102\u001b[0m, in \u001b[0;36mDataFrame.__getitem__\u001b[1;34m(self, key)\u001b[0m\n\u001b[0;32m   4100\u001b[0m \u001b[38;5;28;01mif\u001b[39;00m \u001b[38;5;28mself\u001b[39m\u001b[38;5;241m.\u001b[39mcolumns\u001b[38;5;241m.\u001b[39mnlevels \u001b[38;5;241m>\u001b[39m \u001b[38;5;241m1\u001b[39m:\n\u001b[0;32m   4101\u001b[0m     \u001b[38;5;28;01mreturn\u001b[39;00m \u001b[38;5;28mself\u001b[39m\u001b[38;5;241m.\u001b[39m_getitem_multilevel(key)\n\u001b[1;32m-> 4102\u001b[0m indexer \u001b[38;5;241m=\u001b[39m \u001b[38;5;28mself\u001b[39m\u001b[38;5;241m.\u001b[39mcolumns\u001b[38;5;241m.\u001b[39mget_loc(key)\n\u001b[0;32m   4103\u001b[0m \u001b[38;5;28;01mif\u001b[39;00m is_integer(indexer):\n\u001b[0;32m   4104\u001b[0m     indexer \u001b[38;5;241m=\u001b[39m [indexer]\n",
      "File \u001b[1;32mc:\\Users\\Michal\\anaconda3\\Lib\\site-packages\\pandas\\core\\indexes\\base.py:3812\u001b[0m, in \u001b[0;36mIndex.get_loc\u001b[1;34m(self, key)\u001b[0m\n\u001b[0;32m   3807\u001b[0m     \u001b[38;5;28;01mif\u001b[39;00m \u001b[38;5;28misinstance\u001b[39m(casted_key, \u001b[38;5;28mslice\u001b[39m) \u001b[38;5;129;01mor\u001b[39;00m (\n\u001b[0;32m   3808\u001b[0m         \u001b[38;5;28misinstance\u001b[39m(casted_key, abc\u001b[38;5;241m.\u001b[39mIterable)\n\u001b[0;32m   3809\u001b[0m         \u001b[38;5;129;01mand\u001b[39;00m \u001b[38;5;28many\u001b[39m(\u001b[38;5;28misinstance\u001b[39m(x, \u001b[38;5;28mslice\u001b[39m) \u001b[38;5;28;01mfor\u001b[39;00m x \u001b[38;5;129;01min\u001b[39;00m casted_key)\n\u001b[0;32m   3810\u001b[0m     ):\n\u001b[0;32m   3811\u001b[0m         \u001b[38;5;28;01mraise\u001b[39;00m InvalidIndexError(key)\n\u001b[1;32m-> 3812\u001b[0m     \u001b[38;5;28;01mraise\u001b[39;00m \u001b[38;5;167;01mKeyError\u001b[39;00m(key) \u001b[38;5;28;01mfrom\u001b[39;00m \u001b[38;5;21;01merr\u001b[39;00m\n\u001b[0;32m   3813\u001b[0m \u001b[38;5;28;01mexcept\u001b[39;00m \u001b[38;5;167;01mTypeError\u001b[39;00m:\n\u001b[0;32m   3814\u001b[0m     \u001b[38;5;66;03m# If we have a listlike key, _check_indexing_error will raise\u001b[39;00m\n\u001b[0;32m   3815\u001b[0m     \u001b[38;5;66;03m#  InvalidIndexError. Otherwise we fall through and re-raise\u001b[39;00m\n\u001b[0;32m   3816\u001b[0m     \u001b[38;5;66;03m#  the TypeError.\u001b[39;00m\n\u001b[0;32m   3817\u001b[0m     \u001b[38;5;28mself\u001b[39m\u001b[38;5;241m.\u001b[39m_check_indexing_error(key)\n",
      "\u001b[1;31mKeyError\u001b[0m: 'sepal_length_size'"
     ]
    }
   ],
   "source": [
    "size_map = {\n",
    "    'small' : 1,\n",
    "    'medium' : 2,\n",
    "    'large' : 3\n",
    "}\n",
    "\n",
    "size_data = iris['sepal_length_size'].map(size_map)\n",
    "size_data"
   ]
  },
  {
   "cell_type": "markdown",
   "metadata": {
    "slideshow": {
     "slide_type": "slide"
    }
   },
   "source": [
    "## Zadanie\n",
    "\n",
    "Wczytaj dane \"Breast Cancer Wisconsin\" i przeprowadź preprocesing zgodnie z podanymi poniżej wytycznymi.\n",
    "\n",
    "Dane znajdują się w repozytorium pod adresem [dane/breast-cancer.data](dane/breast-cancer.data) (tub można je popbrać [tutaj](https://github.com/IS-UMK/wdm_lab_04/blob/master/dane/breast-cancer.data))\n",
    "\n",
    "Dane zawierają wartości opisujące cechy jąder komórkowych obecnych na obrazie uzyskanym przy badaniu piersi dla dwóch grup pacjentów: `benign` (złośliwy), `malignat` (łagodny).\n",
    "\n",
    "Oto lista zmiennych:\n",
    "\n",
    "```\n",
    "   #  Attribute                     Domain\n",
    "   -- -----------------------------------------\n",
    "   1. Sample code number            id number\n",
    "   2. Clump Thickness               1 - 10\n",
    "   3. Uniformity of Cell Size       1 - 10\n",
    "   4. Uniformity of Cell Shape      1 - 10\n",
    "   5. Marginal Adhesion             1 - 10\n",
    "   6. Single Epithelial Cell Size   1 - 10\n",
    "   7. Bare Nuclei                   1 - 10\n",
    "   8. Bland Chromatin               1 - 10\n",
    "   9. Normal Nucleoli               1 - 10\n",
    "  10. Mitoses                       1 - 10\n",
    "  11. Class                         (2 for benign, 4 for malignant)\n",
    "\n",
    "```\n",
    "\n",
    "Wszystkie istotne cechy posiadają wartości numeryczne (całkowite) z zakresu od 1 do 10, ostatnia zmienna zawiera informacje o 2 klasach."
   ]
  },
  {
   "cell_type": "markdown",
   "metadata": {
    "slideshow": {
     "slide_type": "slide"
    }
   },
   "source": [
    "1. Wczytaj zbiór danych ``brast-cancer.data`` do tablicy `DataFrame` używając Pandas. Dane są w formacie zgodnym z CSV (wartości są oddzielone przecinkami). Zwróć uwagę na to, że plik nie posiada nagłówka, tzn. pierwsza linia pliku nie zawiera nazw zmiennych. Nadaj odpowiednie nazwy zmiennych zgodne z opisem danych. "
   ]
  },
  {
   "cell_type": "code",
   "execution_count": 175,
   "metadata": {},
   "outputs": [],
   "source": [
    "column_names = [\n",
    "    \"Sample_code_number\",              \n",
    "    \"Clump_Thickness\",                 \n",
    "    \"Uniformity_of_Cell_Size\",        \n",
    "    \"Uniformity_of_Cell_Shape\",       \n",
    "    \"Marginal_Adhesion\",              \n",
    "    \"Single_Epithelial_Cell_Size\",    \n",
    "    \"Bare_Nuclei\",                    \n",
    "    \"Bland_Chromatin\",               \n",
    "    \"Normal_Nucleoli\",                \n",
    "    \"Mitoses\",                        \n",
    "    \"Class\"                       \n",
    "]\n",
    "\n",
    "df = pd.read_csv(r\"dane\\breast-cancer.data\", header=None, names=column_names, delimiter=',')\n",
    "\n",
    "\n"
   ]
  },
  {
   "cell_type": "markdown",
   "metadata": {
    "slideshow": {
     "slide_type": "-"
    }
   },
   "source": [
    "2. Pierwsza zmienna zawiera liczby porządkowe (``Sample_code_number``) identyfikujące pacjentów. Ta zmienna jest nieistotna dla analizy. Usuń ją ze zbioru."
   ]
  },
  {
   "cell_type": "code",
   "execution_count": 176,
   "metadata": {},
   "outputs": [],
   "source": [
    "df_deleted = df.drop(['Sample_code_number'], axis=1)"
   ]
  },
  {
   "cell_type": "markdown",
   "metadata": {
    "slideshow": {
     "slide_type": "-"
    }
   },
   "source": [
    "3. Wartości brakujące w tekstowym pliku wejściowym kodowane są za pomocą znaku zapytania (`?`). Wyświtl liczbę przypadków z wartościami brakującymi oraz liczbę wartości brakujących w każdej ze zmiennych."
   ]
  },
  {
   "cell_type": "code",
   "execution_count": 177,
   "metadata": {},
   "outputs": [
    {
     "name": "stdout",
     "output_type": "stream",
     "text": [
      "Brakujace wartosci w kolumnach: \n",
      "Clump_Thickness                 0\n",
      "Uniformity_of_Cell_Size         0\n",
      "Uniformity_of_Cell_Shape        0\n",
      "Marginal_Adhesion               0\n",
      "Single_Epithelial_Cell_Size     0\n",
      "Bare_Nuclei                    16\n",
      "Bland_Chromatin                 0\n",
      "Normal_Nucleoli                 0\n",
      "Mitoses                         0\n",
      "Class                           0\n",
      "dtype: int64\n",
      "Liczba przypadkow z brakujacym wartosciami: 16\n"
     ]
    }
   ],
   "source": [
    "df_deleted.replace('?', np.nan, inplace=True)\n",
    "\n",
    "missing_values_collumn = df_deleted.isnull().sum()\n",
    "\n",
    "print(f\"Brakujace wartosci w kolumnach: \\n{missing_values_collumn}\")\n",
    "\n",
    "missing_values_rows = df_deleted.isnull().any(axis=1).sum()\n",
    "\n",
    "print(f\"Liczba przypadkow z brakujacym wartosciami: {missing_values_rows}\")"
   ]
  },
  {
   "cell_type": "markdown",
   "metadata": {
    "slideshow": {
     "slide_type": "slide"
    }
   },
   "source": [
    "4. Pozbądź się wartości brakujących ze zbioru danych. Usuń przypadki z brakami lub zamień wartości brakujące na wartość najczęściej występującą, czyli na wartość mody (dominanty), którą można wyznaczyć funkcją [DataFrame.mode()](https://pandas.pydata.org/pandas-docs/stable/reference/api/pandas.DataFrame.mode.html)).  \n",
    "Po transformacji wszystkie zmienne powinny być zmiennymi numerycznymi. Jeśli tak nie jest, to przetransformuj je do postaci numerycznej. "
   ]
  },
  {
   "cell_type": "code",
   "execution_count": 178,
   "metadata": {},
   "outputs": [
    {
     "name": "stdout",
     "output_type": "stream",
     "text": [
      "<class 'pandas.core.frame.DataFrame'>\n",
      "RangeIndex: 699 entries, 0 to 698\n",
      "Data columns (total 10 columns):\n",
      " #   Column                       Non-Null Count  Dtype\n",
      "---  ------                       --------------  -----\n",
      " 0   Clump_Thickness              699 non-null    int64\n",
      " 1   Uniformity_of_Cell_Size      699 non-null    int64\n",
      " 2   Uniformity_of_Cell_Shape     699 non-null    int64\n",
      " 3   Marginal_Adhesion            699 non-null    int64\n",
      " 4   Single_Epithelial_Cell_Size  699 non-null    int64\n",
      " 5   Bare_Nuclei                  699 non-null    int64\n",
      " 6   Bland_Chromatin              699 non-null    int64\n",
      " 7   Normal_Nucleoli              699 non-null    int64\n",
      " 8   Mitoses                      699 non-null    int64\n",
      " 9   Class                        699 non-null    int64\n",
      "dtypes: int64(10)\n",
      "memory usage: 54.7 KB\n"
     ]
    }
   ],
   "source": [
    "mode_value = df_deleted['Bare_Nuclei'].mode()[0]\n",
    "\n",
    "df_deleted['Bare_Nuclei'] = df_deleted['Bare_Nuclei'].fillna(mode_value)\n",
    "\n",
    "df_converted = df_deleted.apply(pd.to_numeric)\n",
    "\n",
    "df_converted.info()"
   ]
  },
  {
   "cell_type": "markdown",
   "metadata": {
    "slideshow": {
     "slide_type": "-"
    }
   },
   "source": [
    "5. Sprawdź, czy zbiór danych zawiera przypadki odstające lub nietypowe. Spodziewamy się, że wszystkie zmienne (oprócz klasy) mają wartości całkowite w zakresie od 1 do 10. Usuń ze zbioru danych wszystkie przypadki, które uznasz za niespójne ze spodziewanym rozkładem danych. "
   ]
  },
  {
   "cell_type": "code",
   "execution_count": null,
   "metadata": {},
   "outputs": [
    {
     "name": "stdout",
     "output_type": "stream",
     "text": [
      "Liczba wartosci odstajacych w kolumnach:\n",
      "Clump_Thickness                0\n",
      "Uniformity_of_Cell_Size        0\n",
      "Uniformity_of_Cell_Shape       0\n",
      "Marginal_Adhesion              0\n",
      "Single_Epithelial_Cell_Size    0\n",
      "Bare_Nuclei                    0\n",
      "Bland_Chromatin                0\n",
      "Normal_Nucleoli                0\n",
      "Mitoses                        0\n",
      "dtype: int64\n",
      "\n",
      "Liczba przypadkow z odstajacymi wartosciami: 0\n"
     ]
    },
    {
     "data": {
      "application/vnd.microsoft.datawrangler.viewer.v0+json": {
       "columns": [
        {
         "name": "index",
         "rawType": "int64",
         "type": "integer"
        },
        {
         "name": "Clump_Thickness",
         "rawType": "int64",
         "type": "integer"
        },
        {
         "name": "Uniformity_of_Cell_Size",
         "rawType": "int64",
         "type": "integer"
        },
        {
         "name": "Uniformity_of_Cell_Shape",
         "rawType": "int64",
         "type": "integer"
        },
        {
         "name": "Marginal_Adhesion",
         "rawType": "int64",
         "type": "integer"
        },
        {
         "name": "Single_Epithelial_Cell_Size",
         "rawType": "int64",
         "type": "integer"
        },
        {
         "name": "Bare_Nuclei",
         "rawType": "int64",
         "type": "integer"
        },
        {
         "name": "Bland_Chromatin",
         "rawType": "int64",
         "type": "integer"
        },
        {
         "name": "Normal_Nucleoli",
         "rawType": "int64",
         "type": "integer"
        },
        {
         "name": "Mitoses",
         "rawType": "int64",
         "type": "integer"
        },
        {
         "name": "Class",
         "rawType": "int64",
         "type": "integer"
        }
       ],
       "conversionMethod": "pd.DataFrame",
       "ref": "eee2aac7-b16f-4923-bcc9-e36f0a3c95c8",
       "rows": [
        [
         "0",
         "5",
         "1",
         "1",
         "1",
         "2",
         "1",
         "3",
         "1",
         "1",
         "2"
        ],
        [
         "1",
         "5",
         "4",
         "4",
         "5",
         "7",
         "10",
         "3",
         "2",
         "1",
         "2"
        ],
        [
         "2",
         "3",
         "1",
         "1",
         "1",
         "2",
         "2",
         "3",
         "1",
         "1",
         "2"
        ],
        [
         "3",
         "6",
         "8",
         "8",
         "1",
         "3",
         "4",
         "3",
         "7",
         "1",
         "2"
        ],
        [
         "4",
         "4",
         "1",
         "1",
         "3",
         "2",
         "1",
         "3",
         "1",
         "1",
         "2"
        ],
        [
         "5",
         "8",
         "10",
         "10",
         "8",
         "7",
         "10",
         "9",
         "7",
         "1",
         "4"
        ],
        [
         "6",
         "1",
         "1",
         "1",
         "1",
         "2",
         "10",
         "3",
         "1",
         "1",
         "2"
        ],
        [
         "7",
         "2",
         "1",
         "2",
         "1",
         "2",
         "1",
         "3",
         "1",
         "1",
         "2"
        ],
        [
         "8",
         "2",
         "1",
         "1",
         "1",
         "2",
         "1",
         "1",
         "1",
         "5",
         "2"
        ],
        [
         "9",
         "4",
         "2",
         "1",
         "1",
         "2",
         "1",
         "2",
         "1",
         "1",
         "2"
        ],
        [
         "10",
         "1",
         "1",
         "1",
         "1",
         "1",
         "1",
         "3",
         "1",
         "1",
         "2"
        ],
        [
         "11",
         "2",
         "1",
         "1",
         "1",
         "2",
         "1",
         "2",
         "1",
         "1",
         "2"
        ],
        [
         "12",
         "5",
         "3",
         "3",
         "3",
         "2",
         "3",
         "4",
         "4",
         "1",
         "4"
        ],
        [
         "13",
         "1",
         "1",
         "1",
         "1",
         "2",
         "3",
         "3",
         "1",
         "1",
         "2"
        ],
        [
         "14",
         "8",
         "7",
         "5",
         "10",
         "7",
         "9",
         "5",
         "5",
         "4",
         "4"
        ],
        [
         "15",
         "7",
         "4",
         "6",
         "4",
         "6",
         "1",
         "4",
         "3",
         "1",
         "4"
        ],
        [
         "16",
         "4",
         "1",
         "1",
         "1",
         "2",
         "1",
         "2",
         "1",
         "1",
         "2"
        ],
        [
         "17",
         "4",
         "1",
         "1",
         "1",
         "2",
         "1",
         "3",
         "1",
         "1",
         "2"
        ],
        [
         "18",
         "10",
         "7",
         "7",
         "6",
         "4",
         "10",
         "4",
         "1",
         "2",
         "4"
        ],
        [
         "19",
         "6",
         "1",
         "1",
         "1",
         "2",
         "1",
         "3",
         "1",
         "1",
         "2"
        ],
        [
         "20",
         "7",
         "3",
         "2",
         "10",
         "5",
         "10",
         "5",
         "4",
         "4",
         "4"
        ],
        [
         "21",
         "10",
         "5",
         "5",
         "3",
         "6",
         "7",
         "7",
         "10",
         "1",
         "4"
        ],
        [
         "22",
         "3",
         "1",
         "1",
         "1",
         "2",
         "1",
         "2",
         "1",
         "1",
         "2"
        ],
        [
         "23",
         "8",
         "4",
         "5",
         "1",
         "2",
         "1",
         "7",
         "3",
         "1",
         "4"
        ],
        [
         "24",
         "1",
         "1",
         "1",
         "1",
         "2",
         "1",
         "3",
         "1",
         "1",
         "2"
        ],
        [
         "25",
         "5",
         "2",
         "3",
         "4",
         "2",
         "7",
         "3",
         "6",
         "1",
         "4"
        ],
        [
         "26",
         "3",
         "2",
         "1",
         "1",
         "1",
         "1",
         "2",
         "1",
         "1",
         "2"
        ],
        [
         "27",
         "5",
         "1",
         "1",
         "1",
         "2",
         "1",
         "2",
         "1",
         "1",
         "2"
        ],
        [
         "28",
         "2",
         "1",
         "1",
         "1",
         "2",
         "1",
         "2",
         "1",
         "1",
         "2"
        ],
        [
         "29",
         "1",
         "1",
         "3",
         "1",
         "2",
         "1",
         "1",
         "1",
         "1",
         "2"
        ],
        [
         "30",
         "3",
         "1",
         "1",
         "1",
         "1",
         "1",
         "2",
         "1",
         "1",
         "2"
        ],
        [
         "31",
         "2",
         "1",
         "1",
         "1",
         "2",
         "1",
         "3",
         "1",
         "1",
         "2"
        ],
        [
         "32",
         "10",
         "7",
         "7",
         "3",
         "8",
         "5",
         "7",
         "4",
         "3",
         "4"
        ],
        [
         "33",
         "2",
         "1",
         "1",
         "2",
         "2",
         "1",
         "3",
         "1",
         "1",
         "2"
        ],
        [
         "34",
         "3",
         "1",
         "2",
         "1",
         "2",
         "1",
         "2",
         "1",
         "1",
         "2"
        ],
        [
         "35",
         "2",
         "1",
         "1",
         "1",
         "2",
         "1",
         "2",
         "1",
         "1",
         "2"
        ],
        [
         "36",
         "10",
         "10",
         "10",
         "8",
         "6",
         "1",
         "8",
         "9",
         "1",
         "4"
        ],
        [
         "37",
         "6",
         "2",
         "1",
         "1",
         "1",
         "1",
         "7",
         "1",
         "1",
         "2"
        ],
        [
         "38",
         "5",
         "4",
         "4",
         "9",
         "2",
         "10",
         "5",
         "6",
         "1",
         "4"
        ],
        [
         "39",
         "2",
         "5",
         "3",
         "3",
         "6",
         "7",
         "7",
         "5",
         "1",
         "4"
        ],
        [
         "40",
         "6",
         "6",
         "6",
         "9",
         "6",
         "1",
         "7",
         "8",
         "1",
         "2"
        ],
        [
         "41",
         "10",
         "4",
         "3",
         "1",
         "3",
         "3",
         "6",
         "5",
         "2",
         "4"
        ],
        [
         "42",
         "6",
         "10",
         "10",
         "2",
         "8",
         "10",
         "7",
         "3",
         "3",
         "4"
        ],
        [
         "43",
         "5",
         "6",
         "5",
         "6",
         "10",
         "1",
         "3",
         "1",
         "1",
         "4"
        ],
        [
         "44",
         "10",
         "10",
         "10",
         "4",
         "8",
         "1",
         "8",
         "10",
         "1",
         "4"
        ],
        [
         "45",
         "1",
         "1",
         "1",
         "1",
         "2",
         "1",
         "2",
         "1",
         "2",
         "2"
        ],
        [
         "46",
         "3",
         "7",
         "7",
         "4",
         "4",
         "9",
         "4",
         "8",
         "1",
         "4"
        ],
        [
         "47",
         "1",
         "1",
         "1",
         "1",
         "2",
         "1",
         "2",
         "1",
         "1",
         "2"
        ],
        [
         "48",
         "4",
         "1",
         "1",
         "3",
         "2",
         "1",
         "3",
         "1",
         "1",
         "2"
        ],
        [
         "49",
         "7",
         "8",
         "7",
         "2",
         "4",
         "8",
         "3",
         "8",
         "2",
         "4"
        ]
       ],
       "shape": {
        "columns": 10,
        "rows": 699
       }
      },
      "text/html": [
       "<div>\n",
       "<style scoped>\n",
       "    .dataframe tbody tr th:only-of-type {\n",
       "        vertical-align: middle;\n",
       "    }\n",
       "\n",
       "    .dataframe tbody tr th {\n",
       "        vertical-align: top;\n",
       "    }\n",
       "\n",
       "    .dataframe thead th {\n",
       "        text-align: right;\n",
       "    }\n",
       "</style>\n",
       "<table border=\"1\" class=\"dataframe\">\n",
       "  <thead>\n",
       "    <tr style=\"text-align: right;\">\n",
       "      <th></th>\n",
       "      <th>Clump_Thickness</th>\n",
       "      <th>Uniformity_of_Cell_Size</th>\n",
       "      <th>Uniformity_of_Cell_Shape</th>\n",
       "      <th>Marginal_Adhesion</th>\n",
       "      <th>Single_Epithelial_Cell_Size</th>\n",
       "      <th>Bare_Nuclei</th>\n",
       "      <th>Bland_Chromatin</th>\n",
       "      <th>Normal_Nucleoli</th>\n",
       "      <th>Mitoses</th>\n",
       "      <th>Class</th>\n",
       "    </tr>\n",
       "  </thead>\n",
       "  <tbody>\n",
       "    <tr>\n",
       "      <th>0</th>\n",
       "      <td>5</td>\n",
       "      <td>1</td>\n",
       "      <td>1</td>\n",
       "      <td>1</td>\n",
       "      <td>2</td>\n",
       "      <td>1</td>\n",
       "      <td>3</td>\n",
       "      <td>1</td>\n",
       "      <td>1</td>\n",
       "      <td>2</td>\n",
       "    </tr>\n",
       "    <tr>\n",
       "      <th>1</th>\n",
       "      <td>5</td>\n",
       "      <td>4</td>\n",
       "      <td>4</td>\n",
       "      <td>5</td>\n",
       "      <td>7</td>\n",
       "      <td>10</td>\n",
       "      <td>3</td>\n",
       "      <td>2</td>\n",
       "      <td>1</td>\n",
       "      <td>2</td>\n",
       "    </tr>\n",
       "    <tr>\n",
       "      <th>2</th>\n",
       "      <td>3</td>\n",
       "      <td>1</td>\n",
       "      <td>1</td>\n",
       "      <td>1</td>\n",
       "      <td>2</td>\n",
       "      <td>2</td>\n",
       "      <td>3</td>\n",
       "      <td>1</td>\n",
       "      <td>1</td>\n",
       "      <td>2</td>\n",
       "    </tr>\n",
       "    <tr>\n",
       "      <th>3</th>\n",
       "      <td>6</td>\n",
       "      <td>8</td>\n",
       "      <td>8</td>\n",
       "      <td>1</td>\n",
       "      <td>3</td>\n",
       "      <td>4</td>\n",
       "      <td>3</td>\n",
       "      <td>7</td>\n",
       "      <td>1</td>\n",
       "      <td>2</td>\n",
       "    </tr>\n",
       "    <tr>\n",
       "      <th>4</th>\n",
       "      <td>4</td>\n",
       "      <td>1</td>\n",
       "      <td>1</td>\n",
       "      <td>3</td>\n",
       "      <td>2</td>\n",
       "      <td>1</td>\n",
       "      <td>3</td>\n",
       "      <td>1</td>\n",
       "      <td>1</td>\n",
       "      <td>2</td>\n",
       "    </tr>\n",
       "    <tr>\n",
       "      <th>...</th>\n",
       "      <td>...</td>\n",
       "      <td>...</td>\n",
       "      <td>...</td>\n",
       "      <td>...</td>\n",
       "      <td>...</td>\n",
       "      <td>...</td>\n",
       "      <td>...</td>\n",
       "      <td>...</td>\n",
       "      <td>...</td>\n",
       "      <td>...</td>\n",
       "    </tr>\n",
       "    <tr>\n",
       "      <th>694</th>\n",
       "      <td>3</td>\n",
       "      <td>1</td>\n",
       "      <td>1</td>\n",
       "      <td>1</td>\n",
       "      <td>3</td>\n",
       "      <td>2</td>\n",
       "      <td>1</td>\n",
       "      <td>1</td>\n",
       "      <td>1</td>\n",
       "      <td>2</td>\n",
       "    </tr>\n",
       "    <tr>\n",
       "      <th>695</th>\n",
       "      <td>2</td>\n",
       "      <td>1</td>\n",
       "      <td>1</td>\n",
       "      <td>1</td>\n",
       "      <td>2</td>\n",
       "      <td>1</td>\n",
       "      <td>1</td>\n",
       "      <td>1</td>\n",
       "      <td>1</td>\n",
       "      <td>2</td>\n",
       "    </tr>\n",
       "    <tr>\n",
       "      <th>696</th>\n",
       "      <td>5</td>\n",
       "      <td>10</td>\n",
       "      <td>10</td>\n",
       "      <td>3</td>\n",
       "      <td>7</td>\n",
       "      <td>3</td>\n",
       "      <td>8</td>\n",
       "      <td>10</td>\n",
       "      <td>2</td>\n",
       "      <td>4</td>\n",
       "    </tr>\n",
       "    <tr>\n",
       "      <th>697</th>\n",
       "      <td>4</td>\n",
       "      <td>8</td>\n",
       "      <td>6</td>\n",
       "      <td>4</td>\n",
       "      <td>3</td>\n",
       "      <td>4</td>\n",
       "      <td>10</td>\n",
       "      <td>6</td>\n",
       "      <td>1</td>\n",
       "      <td>4</td>\n",
       "    </tr>\n",
       "    <tr>\n",
       "      <th>698</th>\n",
       "      <td>4</td>\n",
       "      <td>8</td>\n",
       "      <td>8</td>\n",
       "      <td>5</td>\n",
       "      <td>4</td>\n",
       "      <td>5</td>\n",
       "      <td>10</td>\n",
       "      <td>4</td>\n",
       "      <td>1</td>\n",
       "      <td>4</td>\n",
       "    </tr>\n",
       "  </tbody>\n",
       "</table>\n",
       "<p>699 rows × 10 columns</p>\n",
       "</div>"
      ],
      "text/plain": [
       "     Clump_Thickness  Uniformity_of_Cell_Size  Uniformity_of_Cell_Shape  \\\n",
       "0                  5                        1                         1   \n",
       "1                  5                        4                         4   \n",
       "2                  3                        1                         1   \n",
       "3                  6                        8                         8   \n",
       "4                  4                        1                         1   \n",
       "..               ...                      ...                       ...   \n",
       "694                3                        1                         1   \n",
       "695                2                        1                         1   \n",
       "696                5                       10                        10   \n",
       "697                4                        8                         6   \n",
       "698                4                        8                         8   \n",
       "\n",
       "     Marginal_Adhesion  Single_Epithelial_Cell_Size  Bare_Nuclei  \\\n",
       "0                    1                            2            1   \n",
       "1                    5                            7           10   \n",
       "2                    1                            2            2   \n",
       "3                    1                            3            4   \n",
       "4                    3                            2            1   \n",
       "..                 ...                          ...          ...   \n",
       "694                  1                            3            2   \n",
       "695                  1                            2            1   \n",
       "696                  3                            7            3   \n",
       "697                  4                            3            4   \n",
       "698                  5                            4            5   \n",
       "\n",
       "     Bland_Chromatin  Normal_Nucleoli  Mitoses  Class  \n",
       "0                  3                1        1      2  \n",
       "1                  3                2        1      2  \n",
       "2                  3                1        1      2  \n",
       "3                  3                7        1      2  \n",
       "4                  3                1        1      2  \n",
       "..               ...              ...      ...    ...  \n",
       "694                1                1        1      2  \n",
       "695                1                1        1      2  \n",
       "696                8               10        2      4  \n",
       "697               10                6        1      4  \n",
       "698               10                4        1      4  \n",
       "\n",
       "[699 rows x 10 columns]"
      ]
     },
     "execution_count": 180,
     "metadata": {},
     "output_type": "execute_result"
    }
   ],
   "source": [
    "columns = df_converted.columns[df_converted.columns != 'Class']\n",
    "\n",
    "outliers = (df_converted[columns] < 1) | (df_converted[columns] > 10)\n",
    "\n",
    "outliers_count = outliers.sum()\n",
    "\n",
    "print(\"Liczba wartosci odstajacych w kolumnach:\")\n",
    "print(outliers_count)\n",
    "\n",
    "rows_with_outliers = outliers.any(axis=1).sum()\n",
    "print(f\"\\nLiczba przypadkow z odstajacymi wartosciami: {rows_with_outliers}\")\n",
    "\n",
    "df_cleaned_outliers = df_converted[~outliers.any(axis=1)]\n",
    "\n",
    "df_cleaned_outliers\n",
    "\n",
    "#dziwne, mam wrazemoe ze takich przypadkow nie bylo"
   ]
  },
  {
   "cell_type": "markdown",
   "metadata": {
    "slideshow": {
     "slide_type": "slide"
    }
   },
   "source": [
    "6. Usuń ze zbioru przypadki odstające, których wartości zmiennych wykraczają poza przedział $(\\bar{x}-3\\cdot\\sigma, \\bar{x}+ 3\\cdot\\sigma)$, gdzie $\\bar{x}$ to wartość średnia zmiennej, $\\sigma$ to odchylnie standardowe zmiennej."
   ]
  },
  {
   "cell_type": "code",
   "execution_count": 191,
   "metadata": {},
   "outputs": [],
   "source": [
    "features = df_cleaned_outliers.columns[df_cleaned_outliers.columns != 'Class']\n",
    "means = df_cleaned_outliers[features].mean()\n",
    "\n",
    "means\n",
    "\n",
    "stds = df_cleaned_outliers[features].std()\n",
    "\n",
    "mask = ((df_cleaned_outliers[features] >= (means - 3 * stds)) & \n",
    "        (df_cleaned_outliers[features] <= (means + 3 * stds)))\n",
    "\n",
    "rows_with_outliers = mask.all(axis=1)\n",
    "\n",
    "df_std = df_cleaned_outliers[rows_with_outliers]\n"
   ]
  },
  {
   "cell_type": "markdown",
   "metadata": {
    "slideshow": {
     "slide_type": "-"
    }
   },
   "source": [
    "7. Usuń ze zbioru danych duplikaty, tzn. powtarzające sie przypadki. "
   ]
  },
  {
   "cell_type": "code",
   "execution_count": 193,
   "metadata": {},
   "outputs": [
    {
     "data": {
      "application/vnd.microsoft.datawrangler.viewer.v0+json": {
       "columns": [
        {
         "name": "index",
         "rawType": "int64",
         "type": "integer"
        },
        {
         "name": "Clump_Thickness",
         "rawType": "int64",
         "type": "integer"
        },
        {
         "name": "Uniformity_of_Cell_Size",
         "rawType": "int64",
         "type": "integer"
        },
        {
         "name": "Uniformity_of_Cell_Shape",
         "rawType": "int64",
         "type": "integer"
        },
        {
         "name": "Marginal_Adhesion",
         "rawType": "int64",
         "type": "integer"
        },
        {
         "name": "Single_Epithelial_Cell_Size",
         "rawType": "int64",
         "type": "integer"
        },
        {
         "name": "Bare_Nuclei",
         "rawType": "int64",
         "type": "integer"
        },
        {
         "name": "Bland_Chromatin",
         "rawType": "int64",
         "type": "integer"
        },
        {
         "name": "Normal_Nucleoli",
         "rawType": "int64",
         "type": "integer"
        },
        {
         "name": "Mitoses",
         "rawType": "int64",
         "type": "integer"
        },
        {
         "name": "Class",
         "rawType": "int64",
         "type": "integer"
        }
       ],
       "conversionMethod": "pd.DataFrame",
       "ref": "2eee6b09-0208-49cc-a8d3-2e7ed3dcb52c",
       "rows": [
        [
         "0",
         "5",
         "1",
         "1",
         "1",
         "2",
         "1",
         "3",
         "1",
         "1",
         "2"
        ],
        [
         "1",
         "5",
         "4",
         "4",
         "5",
         "7",
         "10",
         "3",
         "2",
         "1",
         "2"
        ],
        [
         "2",
         "3",
         "1",
         "1",
         "1",
         "2",
         "2",
         "3",
         "1",
         "1",
         "2"
        ],
        [
         "3",
         "6",
         "8",
         "8",
         "1",
         "3",
         "4",
         "3",
         "7",
         "1",
         "2"
        ],
        [
         "4",
         "4",
         "1",
         "1",
         "3",
         "2",
         "1",
         "3",
         "1",
         "1",
         "2"
        ],
        [
         "5",
         "8",
         "10",
         "10",
         "8",
         "7",
         "10",
         "9",
         "7",
         "1",
         "4"
        ],
        [
         "6",
         "1",
         "1",
         "1",
         "1",
         "2",
         "10",
         "3",
         "1",
         "1",
         "2"
        ],
        [
         "7",
         "2",
         "1",
         "2",
         "1",
         "2",
         "1",
         "3",
         "1",
         "1",
         "2"
        ],
        [
         "8",
         "2",
         "1",
         "1",
         "1",
         "2",
         "1",
         "1",
         "1",
         "5",
         "2"
        ],
        [
         "9",
         "4",
         "2",
         "1",
         "1",
         "2",
         "1",
         "2",
         "1",
         "1",
         "2"
        ],
        [
         "10",
         "1",
         "1",
         "1",
         "1",
         "1",
         "1",
         "3",
         "1",
         "1",
         "2"
        ],
        [
         "11",
         "2",
         "1",
         "1",
         "1",
         "2",
         "1",
         "2",
         "1",
         "1",
         "2"
        ],
        [
         "12",
         "5",
         "3",
         "3",
         "3",
         "2",
         "3",
         "4",
         "4",
         "1",
         "4"
        ],
        [
         "13",
         "1",
         "1",
         "1",
         "1",
         "2",
         "3",
         "3",
         "1",
         "1",
         "2"
        ],
        [
         "14",
         "8",
         "7",
         "5",
         "10",
         "7",
         "9",
         "5",
         "5",
         "4",
         "4"
        ],
        [
         "15",
         "7",
         "4",
         "6",
         "4",
         "6",
         "1",
         "4",
         "3",
         "1",
         "4"
        ],
        [
         "16",
         "4",
         "1",
         "1",
         "1",
         "2",
         "1",
         "2",
         "1",
         "1",
         "2"
        ],
        [
         "17",
         "4",
         "1",
         "1",
         "1",
         "2",
         "1",
         "3",
         "1",
         "1",
         "2"
        ],
        [
         "18",
         "10",
         "7",
         "7",
         "6",
         "4",
         "10",
         "4",
         "1",
         "2",
         "4"
        ],
        [
         "19",
         "6",
         "1",
         "1",
         "1",
         "2",
         "1",
         "3",
         "1",
         "1",
         "2"
        ],
        [
         "20",
         "7",
         "3",
         "2",
         "10",
         "5",
         "10",
         "5",
         "4",
         "4",
         "4"
        ],
        [
         "21",
         "10",
         "5",
         "5",
         "3",
         "6",
         "7",
         "7",
         "10",
         "1",
         "4"
        ],
        [
         "22",
         "3",
         "1",
         "1",
         "1",
         "2",
         "1",
         "2",
         "1",
         "1",
         "2"
        ],
        [
         "23",
         "8",
         "4",
         "5",
         "1",
         "2",
         "1",
         "7",
         "3",
         "1",
         "4"
        ],
        [
         "24",
         "1",
         "1",
         "1",
         "1",
         "2",
         "1",
         "3",
         "1",
         "1",
         "2"
        ],
        [
         "25",
         "5",
         "2",
         "3",
         "4",
         "2",
         "7",
         "3",
         "6",
         "1",
         "4"
        ],
        [
         "26",
         "3",
         "2",
         "1",
         "1",
         "1",
         "1",
         "2",
         "1",
         "1",
         "2"
        ],
        [
         "27",
         "5",
         "1",
         "1",
         "1",
         "2",
         "1",
         "2",
         "1",
         "1",
         "2"
        ],
        [
         "29",
         "1",
         "1",
         "3",
         "1",
         "2",
         "1",
         "1",
         "1",
         "1",
         "2"
        ],
        [
         "30",
         "3",
         "1",
         "1",
         "1",
         "1",
         "1",
         "2",
         "1",
         "1",
         "2"
        ],
        [
         "31",
         "2",
         "1",
         "1",
         "1",
         "2",
         "1",
         "3",
         "1",
         "1",
         "2"
        ],
        [
         "32",
         "10",
         "7",
         "7",
         "3",
         "8",
         "5",
         "7",
         "4",
         "3",
         "4"
        ],
        [
         "33",
         "2",
         "1",
         "1",
         "2",
         "2",
         "1",
         "3",
         "1",
         "1",
         "2"
        ],
        [
         "34",
         "3",
         "1",
         "2",
         "1",
         "2",
         "1",
         "2",
         "1",
         "1",
         "2"
        ],
        [
         "36",
         "10",
         "10",
         "10",
         "8",
         "6",
         "1",
         "8",
         "9",
         "1",
         "4"
        ],
        [
         "37",
         "6",
         "2",
         "1",
         "1",
         "1",
         "1",
         "7",
         "1",
         "1",
         "2"
        ],
        [
         "38",
         "5",
         "4",
         "4",
         "9",
         "2",
         "10",
         "5",
         "6",
         "1",
         "4"
        ],
        [
         "39",
         "2",
         "5",
         "3",
         "3",
         "6",
         "7",
         "7",
         "5",
         "1",
         "4"
        ],
        [
         "40",
         "6",
         "6",
         "6",
         "9",
         "6",
         "1",
         "7",
         "8",
         "1",
         "2"
        ],
        [
         "41",
         "10",
         "4",
         "3",
         "1",
         "3",
         "3",
         "6",
         "5",
         "2",
         "4"
        ],
        [
         "42",
         "6",
         "10",
         "10",
         "2",
         "8",
         "10",
         "7",
         "3",
         "3",
         "4"
        ],
        [
         "43",
         "5",
         "6",
         "5",
         "6",
         "10",
         "1",
         "3",
         "1",
         "1",
         "4"
        ],
        [
         "44",
         "10",
         "10",
         "10",
         "4",
         "8",
         "1",
         "8",
         "10",
         "1",
         "4"
        ],
        [
         "45",
         "1",
         "1",
         "1",
         "1",
         "2",
         "1",
         "2",
         "1",
         "2",
         "2"
        ],
        [
         "46",
         "3",
         "7",
         "7",
         "4",
         "4",
         "9",
         "4",
         "8",
         "1",
         "4"
        ],
        [
         "47",
         "1",
         "1",
         "1",
         "1",
         "2",
         "1",
         "2",
         "1",
         "1",
         "2"
        ],
        [
         "49",
         "7",
         "8",
         "7",
         "2",
         "4",
         "8",
         "3",
         "8",
         "2",
         "4"
        ],
        [
         "50",
         "9",
         "5",
         "8",
         "1",
         "2",
         "3",
         "2",
         "1",
         "5",
         "4"
        ],
        [
         "51",
         "5",
         "3",
         "3",
         "4",
         "2",
         "4",
         "3",
         "4",
         "1",
         "4"
        ],
        [
         "52",
         "10",
         "3",
         "6",
         "2",
         "3",
         "5",
         "4",
         "10",
         "2",
         "4"
        ]
       ],
       "shape": {
        "columns": 10,
        "rows": 457
       }
      },
      "text/html": [
       "<div>\n",
       "<style scoped>\n",
       "    .dataframe tbody tr th:only-of-type {\n",
       "        vertical-align: middle;\n",
       "    }\n",
       "\n",
       "    .dataframe tbody tr th {\n",
       "        vertical-align: top;\n",
       "    }\n",
       "\n",
       "    .dataframe thead th {\n",
       "        text-align: right;\n",
       "    }\n",
       "</style>\n",
       "<table border=\"1\" class=\"dataframe\">\n",
       "  <thead>\n",
       "    <tr style=\"text-align: right;\">\n",
       "      <th></th>\n",
       "      <th>Clump_Thickness</th>\n",
       "      <th>Uniformity_of_Cell_Size</th>\n",
       "      <th>Uniformity_of_Cell_Shape</th>\n",
       "      <th>Marginal_Adhesion</th>\n",
       "      <th>Single_Epithelial_Cell_Size</th>\n",
       "      <th>Bare_Nuclei</th>\n",
       "      <th>Bland_Chromatin</th>\n",
       "      <th>Normal_Nucleoli</th>\n",
       "      <th>Mitoses</th>\n",
       "      <th>Class</th>\n",
       "    </tr>\n",
       "  </thead>\n",
       "  <tbody>\n",
       "    <tr>\n",
       "      <th>0</th>\n",
       "      <td>5</td>\n",
       "      <td>1</td>\n",
       "      <td>1</td>\n",
       "      <td>1</td>\n",
       "      <td>2</td>\n",
       "      <td>1</td>\n",
       "      <td>3</td>\n",
       "      <td>1</td>\n",
       "      <td>1</td>\n",
       "      <td>2</td>\n",
       "    </tr>\n",
       "    <tr>\n",
       "      <th>1</th>\n",
       "      <td>5</td>\n",
       "      <td>4</td>\n",
       "      <td>4</td>\n",
       "      <td>5</td>\n",
       "      <td>7</td>\n",
       "      <td>10</td>\n",
       "      <td>3</td>\n",
       "      <td>2</td>\n",
       "      <td>1</td>\n",
       "      <td>2</td>\n",
       "    </tr>\n",
       "    <tr>\n",
       "      <th>2</th>\n",
       "      <td>3</td>\n",
       "      <td>1</td>\n",
       "      <td>1</td>\n",
       "      <td>1</td>\n",
       "      <td>2</td>\n",
       "      <td>2</td>\n",
       "      <td>3</td>\n",
       "      <td>1</td>\n",
       "      <td>1</td>\n",
       "      <td>2</td>\n",
       "    </tr>\n",
       "    <tr>\n",
       "      <th>3</th>\n",
       "      <td>6</td>\n",
       "      <td>8</td>\n",
       "      <td>8</td>\n",
       "      <td>1</td>\n",
       "      <td>3</td>\n",
       "      <td>4</td>\n",
       "      <td>3</td>\n",
       "      <td>7</td>\n",
       "      <td>1</td>\n",
       "      <td>2</td>\n",
       "    </tr>\n",
       "    <tr>\n",
       "      <th>4</th>\n",
       "      <td>4</td>\n",
       "      <td>1</td>\n",
       "      <td>1</td>\n",
       "      <td>3</td>\n",
       "      <td>2</td>\n",
       "      <td>1</td>\n",
       "      <td>3</td>\n",
       "      <td>1</td>\n",
       "      <td>1</td>\n",
       "      <td>2</td>\n",
       "    </tr>\n",
       "    <tr>\n",
       "      <th>...</th>\n",
       "      <td>...</td>\n",
       "      <td>...</td>\n",
       "      <td>...</td>\n",
       "      <td>...</td>\n",
       "      <td>...</td>\n",
       "      <td>...</td>\n",
       "      <td>...</td>\n",
       "      <td>...</td>\n",
       "      <td>...</td>\n",
       "      <td>...</td>\n",
       "    </tr>\n",
       "    <tr>\n",
       "      <th>693</th>\n",
       "      <td>3</td>\n",
       "      <td>1</td>\n",
       "      <td>1</td>\n",
       "      <td>1</td>\n",
       "      <td>2</td>\n",
       "      <td>1</td>\n",
       "      <td>2</td>\n",
       "      <td>1</td>\n",
       "      <td>2</td>\n",
       "      <td>2</td>\n",
       "    </tr>\n",
       "    <tr>\n",
       "      <th>694</th>\n",
       "      <td>3</td>\n",
       "      <td>1</td>\n",
       "      <td>1</td>\n",
       "      <td>1</td>\n",
       "      <td>3</td>\n",
       "      <td>2</td>\n",
       "      <td>1</td>\n",
       "      <td>1</td>\n",
       "      <td>1</td>\n",
       "      <td>2</td>\n",
       "    </tr>\n",
       "    <tr>\n",
       "      <th>696</th>\n",
       "      <td>5</td>\n",
       "      <td>10</td>\n",
       "      <td>10</td>\n",
       "      <td>3</td>\n",
       "      <td>7</td>\n",
       "      <td>3</td>\n",
       "      <td>8</td>\n",
       "      <td>10</td>\n",
       "      <td>2</td>\n",
       "      <td>4</td>\n",
       "    </tr>\n",
       "    <tr>\n",
       "      <th>697</th>\n",
       "      <td>4</td>\n",
       "      <td>8</td>\n",
       "      <td>6</td>\n",
       "      <td>4</td>\n",
       "      <td>3</td>\n",
       "      <td>4</td>\n",
       "      <td>10</td>\n",
       "      <td>6</td>\n",
       "      <td>1</td>\n",
       "      <td>4</td>\n",
       "    </tr>\n",
       "    <tr>\n",
       "      <th>698</th>\n",
       "      <td>4</td>\n",
       "      <td>8</td>\n",
       "      <td>8</td>\n",
       "      <td>5</td>\n",
       "      <td>4</td>\n",
       "      <td>5</td>\n",
       "      <td>10</td>\n",
       "      <td>4</td>\n",
       "      <td>1</td>\n",
       "      <td>4</td>\n",
       "    </tr>\n",
       "  </tbody>\n",
       "</table>\n",
       "<p>457 rows × 10 columns</p>\n",
       "</div>"
      ],
      "text/plain": [
       "     Clump_Thickness  Uniformity_of_Cell_Size  Uniformity_of_Cell_Shape  \\\n",
       "0                  5                        1                         1   \n",
       "1                  5                        4                         4   \n",
       "2                  3                        1                         1   \n",
       "3                  6                        8                         8   \n",
       "4                  4                        1                         1   \n",
       "..               ...                      ...                       ...   \n",
       "693                3                        1                         1   \n",
       "694                3                        1                         1   \n",
       "696                5                       10                        10   \n",
       "697                4                        8                         6   \n",
       "698                4                        8                         8   \n",
       "\n",
       "     Marginal_Adhesion  Single_Epithelial_Cell_Size  Bare_Nuclei  \\\n",
       "0                    1                            2            1   \n",
       "1                    5                            7           10   \n",
       "2                    1                            2            2   \n",
       "3                    1                            3            4   \n",
       "4                    3                            2            1   \n",
       "..                 ...                          ...          ...   \n",
       "693                  1                            2            1   \n",
       "694                  1                            3            2   \n",
       "696                  3                            7            3   \n",
       "697                  4                            3            4   \n",
       "698                  5                            4            5   \n",
       "\n",
       "     Bland_Chromatin  Normal_Nucleoli  Mitoses  Class  \n",
       "0                  3                1        1      2  \n",
       "1                  3                2        1      2  \n",
       "2                  3                1        1      2  \n",
       "3                  3                7        1      2  \n",
       "4                  3                1        1      2  \n",
       "..               ...              ...      ...    ...  \n",
       "693                2                1        2      2  \n",
       "694                1                1        1      2  \n",
       "696                8               10        2      4  \n",
       "697               10                6        1      4  \n",
       "698               10                4        1      4  \n",
       "\n",
       "[457 rows x 10 columns]"
      ]
     },
     "execution_count": 193,
     "metadata": {},
     "output_type": "execute_result"
    }
   ],
   "source": [
    "df_final = df_cleaned_outliers.drop_duplicates()\n",
    "\n",
    "df_final"
   ]
  },
  {
   "cell_type": "markdown",
   "metadata": {
    "slideshow": {
     "slide_type": "-"
    }
   },
   "source": [
    "8. Uzyskany zbiór danych wyeksportuj do pliku tekstowego w formacie CSV o nazwie ``breast-cancer.csv``. Plik wynikowy powinien zawierać nagłowek z nazwami zmiennych, średnik (`;`) jako separator oraz nie powinien zawierać zmiennej indeksującej.  Zabacz funkcję [DataFrame.to_csv()](https://pandas.pydata.org/pandas-docs/stable/reference/api/pandas.DataFrame.to_csv.html). Wynikowy plik danych umieść w repozytorium GitHub.\n",
    "\n",
    "\n"
   ]
  },
  {
   "cell_type": "code",
   "execution_count": 194,
   "metadata": {},
   "outputs": [],
   "source": [
    "\n",
    "df_final.to_csv('breast-cancer.csv', sep=';', index=False)\n",
    "\n"
   ]
  }
 ],
 "metadata": {
  "celltoolbar": "Slideshow",
  "kernelspec": {
   "display_name": "base",
   "language": "python",
   "name": "python3"
  },
  "language_info": {
   "codemirror_mode": {
    "name": "ipython",
    "version": 3
   },
   "file_extension": ".py",
   "mimetype": "text/x-python",
   "name": "python",
   "nbconvert_exporter": "python",
   "pygments_lexer": "ipython3",
   "version": "3.12.7"
  },
  "toc": {
   "base_numbering": 1,
   "nav_menu": {},
   "number_sections": true,
   "sideBar": true,
   "skip_h1_title": false,
   "title_cell": "Table of Contents",
   "title_sidebar": "Contents",
   "toc_cell": true,
   "toc_position": {
    "height": "calc(100% - 180px)",
    "left": "10px",
    "top": "150px",
    "width": "480px"
   },
   "toc_section_display": true,
   "toc_window_display": false
  },
  "varInspector": {
   "cols": {
    "lenName": 16,
    "lenType": 16,
    "lenVar": 40
   },
   "kernels_config": {
    "python": {
     "delete_cmd_postfix": "",
     "delete_cmd_prefix": "del ",
     "library": "var_list.py",
     "varRefreshCmd": "print(var_dic_list())"
    },
    "r": {
     "delete_cmd_postfix": ") ",
     "delete_cmd_prefix": "rm(",
     "library": "var_list.r",
     "varRefreshCmd": "cat(var_dic_list()) "
    }
   },
   "types_to_exclude": [
    "module",
    "function",
    "builtin_function_or_method",
    "instance",
    "_Feature"
   ],
   "window_display": false
  }
 },
 "nbformat": 4,
 "nbformat_minor": 4
}
